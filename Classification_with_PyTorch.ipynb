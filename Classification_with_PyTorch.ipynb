{
  "nbformat": 4,
  "nbformat_minor": 0,
  "metadata": {
    "colab": {
      "provenance": []
    },
    "kernelspec": {
      "name": "python3",
      "display_name": "Python 3"
    },
    "language_info": {
      "name": "python"
    }
  },
  "cells": [
    {
      "cell_type": "markdown",
      "source": [
        "### Star, Galaxy, or Quasar?"
      ],
      "metadata": {
        "id": "qPjw9nnf58bi"
      }
    },
    {
      "cell_type": "markdown",
      "source": [
        "![alt text](https://www.sdss.org/wp-content/uploads/2014/05/segue.jpg)\n",
        "\n",
        "\n",
        "In this problem, we will use a Pytorch logististic regression model to predict whether an observed object is a star, galaxy, or quasar.\n",
        "\n",
        "**The Data**\n",
        "\n",
        "We will be using data collected by the Sloan Digital Sky Survey ([SDSS](http://www.sdss.org/)) and released as part of Data Release 14. SDSS is a multi-spectral and spectroscopic survey telescope at Apache Point Observatory in New Mexico, USA. \n",
        "\n",
        "The telescope uses a camera of 30 CCDs which observe in different optical filter bands (u,g,r,i,z). The data used here is freely publicly available. \n",
        "\n",
        "Therefore we will be importing a table of 10,000 objects, for each of which we have the following information:\n",
        "- class = tells us whether the object is a GALAXY, STAR, or QSO (\"quasi-stellar object\" or [quasar](https://en.wikipedia.org/wiki/Quasar))\n",
        "- ra = [Right Ascension](https://en.wikipedia.org/wiki/Right_ascension)\n",
        "- dec = Declination \n",
        "- [redshift](https://en.wikipedia.org/wiki/Redshift)\n",
        "\n",
        "\n",
        "Magnitude in each of the following [filters](http://skyserver.sdss.org/dr1/en/proj/advanced/color/sdssfilters.asp):\n",
        "- u\n",
        "- g\n",
        "- r\n",
        "- i\n",
        "- z\n",
        "\n",
        "\n",
        "The data we will be using in this exercise has already been preprocessed in the following ways:\n",
        "- The 'class' feature has been converted to a set of labels (target array) `T`. Here, 0, 1, and 2 correspond to STAR, GALAXY, and QUASAR respectively.\n",
        "- The rest of the features have been converted to a scaled array `X`."
      ],
      "metadata": {
        "id": "dIkIFhp_4j4z"
      }
    },
    {
      "cell_type": "code",
      "execution_count": 1,
      "metadata": {
        "id": "ztoGJxPL4a9_"
      },
      "outputs": [],
      "source": [
        "import pandas as pd\n",
        "import numpy as np\n",
        "import matplotlib.pyplot as plt\n",
        "from matplotlib.colors import ListedColormap\n",
        "import torch"
      ]
    },
    {
      "cell_type": "code",
      "source": [
        "# Let's import the processed data\n",
        "!wget https://raw.githubusercontent.com/ChristiaanvA/ml4pha_datasets/main/Skyserver_SQL_labels.csv\n",
        "!wget https://raw.githubusercontent.com/ChristiaanvA/ml4pha_datasets/main/Skyserver_SQL_features.csv"
      ],
      "metadata": {
        "colab": {
          "base_uri": "https://localhost:8080/"
        },
        "id": "nLIoaqnX5EbC",
        "outputId": "62f0f475-d850-4b4d-8f1b-a20cdb815382"
      },
      "execution_count": 2,
      "outputs": [
        {
          "output_type": "stream",
          "name": "stdout",
          "text": [
            "--2023-03-21 11:22:07--  https://raw.githubusercontent.com/ChristiaanvA/ml4pha_datasets/main/Skyserver_SQL_labels.csv\n",
            "Resolving raw.githubusercontent.com (raw.githubusercontent.com)... 185.199.108.133, 185.199.109.133, 185.199.110.133, ...\n",
            "Connecting to raw.githubusercontent.com (raw.githubusercontent.com)|185.199.108.133|:443... connected.\n",
            "HTTP request sent, awaiting response... 200 OK\n",
            "Length: 250000 (244K) [text/plain]\n",
            "Saving to: ‘Skyserver_SQL_labels.csv’\n",
            "\n",
            "Skyserver_SQL_label 100%[===================>] 244.14K  --.-KB/s    in 0.03s   \n",
            "\n",
            "2023-03-21 11:22:07 (7.49 MB/s) - ‘Skyserver_SQL_labels.csv’ saved [250000/250000]\n",
            "\n",
            "--2023-03-21 11:22:07--  https://raw.githubusercontent.com/ChristiaanvA/ml4pha_datasets/main/Skyserver_SQL_features.csv\n",
            "Resolving raw.githubusercontent.com (raw.githubusercontent.com)... 185.199.108.133, 185.199.109.133, 185.199.110.133, ...\n",
            "Connecting to raw.githubusercontent.com (raw.githubusercontent.com)|185.199.108.133|:443... connected.\n",
            "HTTP request sent, awaiting response... 200 OK\n",
            "Length: 2044497 (1.9M) [text/plain]\n",
            "Saving to: ‘Skyserver_SQL_features.csv’\n",
            "\n",
            "Skyserver_SQL_featu 100%[===================>]   1.95M  --.-KB/s    in 0.06s   \n",
            "\n",
            "2023-03-21 11:22:08 (32.8 MB/s) - ‘Skyserver_SQL_features.csv’ saved [2044497/2044497]\n",
            "\n"
          ]
        }
      ]
    },
    {
      "cell_type": "code",
      "source": [
        "T = pd.read_csv('/content/Skyserver_SQL_labels.csv').rename(columns = {'0.000000000000000000e+00':'label'})\n",
        "T = pd.get_dummies(T, columns = ['label'])\n",
        "T = T.to_numpy().flatten().reshape(len(T), 3)\n",
        "X = pd.read_csv('/content/Skyserver_SQL_features.csv').to_numpy()"
      ],
      "metadata": {
        "id": "HlOCXIuk5IfG"
      },
      "execution_count": 3,
      "outputs": []
    },
    {
      "cell_type": "markdown",
      "source": [
        "First, we shuffle our X and T arrays, in such a way that each row still corresponds to each row! We split your target array `T` into two arrays: `T_train` and `T_test` and corresponding two `X_train` and `X_test` arrays, where the train test contains 90% of the datapoints and the test dataset contains 10% of the datapoints."
      ],
      "metadata": {
        "id": "8kxwzmHE5Nqf"
      }
    },
    {
      "cell_type": "code",
      "source": [
        "from sklearn.model_selection import train_test_split\n",
        "X_train, X_test, T_train, T_test = train_test_split(X, T, test_size = 0.33, shuffle = True)#, random_state=1)"
      ],
      "metadata": {
        "id": "8oHHdsK75Zxd"
      },
      "execution_count": 4,
      "outputs": []
    },
    {
      "cell_type": "code",
      "source": [
        "X_train_tensor = torch.from_numpy(X_train).to(torch.float)\n",
        "T_train_tensor = torch.from_numpy(T_train).to(torch.float)\n",
        "\n",
        "X_test_tensor = torch.from_numpy(X_test).to(torch.float)\n",
        "T_test_tensor = torch.from_numpy(T_test).to(torch.float)"
      ],
      "metadata": {
        "id": "wNt1BJPh5d4F"
      },
      "execution_count": 5,
      "outputs": []
    },
    {
      "cell_type": "code",
      "source": [
        "class LogisticRegression(torch.nn.Module):\n",
        "    def __init__(self):\n",
        "        super(LogisticRegression, self).__init__()\n",
        "        self.linear = torch.nn.Linear(8,3)\n",
        "        self.softmax = torch.nn.Softmax(dim = 1)\n",
        "\n",
        "    def forward(self,x):\n",
        "        y = self.softmax(self.linear(x))\n",
        "        return y"
      ],
      "metadata": {
        "id": "8T0zUELa5iA5"
      },
      "execution_count": 6,
      "outputs": []
    },
    {
      "cell_type": "code",
      "source": [
        "model = LogisticRegression()\n",
        "criterion = torch.nn.CrossEntropyLoss()\n",
        "optimizer = torch.optim.SGD(model.parameters(), lr=0.02)"
      ],
      "metadata": {
        "id": "NsegtSoG5kaU"
      },
      "execution_count": 7,
      "outputs": []
    },
    {
      "cell_type": "code",
      "source": [
        "model.train()\n",
        "loss_history = []\n",
        "for epoch in range(15000):\n",
        "    optimizer.zero_grad()\n",
        "\n",
        "    # forward pass\n",
        "    Y_pred = model(X_train_tensor)\n",
        "\n",
        "    # compute loss\n",
        "    loss = criterion(Y_pred, T_train_tensor)\n",
        "    if epoch% 1000 == 0:\n",
        "        print(loss.item())\n",
        "        loss_history.append(loss.item())\n",
        "    # backward pass\n",
        "    loss.backward()\n",
        "    optimizer.step()"
      ],
      "metadata": {
        "colab": {
          "base_uri": "https://localhost:8080/"
        },
        "id": "D-0COjDP5mAa",
        "outputId": "ee2f832a-80ed-47dc-8595-126cb673dceb"
      },
      "execution_count": 8,
      "outputs": [
        {
          "output_type": "stream",
          "name": "stdout",
          "text": [
            "1.1589226722717285\n",
            "0.8460386991500854\n",
            "0.8013460636138916\n",
            "0.7823293209075928\n",
            "0.7706000208854675\n",
            "0.7620438933372498\n",
            "0.7552009224891663\n",
            "0.7494094371795654\n",
            "0.7443205118179321\n",
            "0.7397312521934509\n",
            "0.7355144619941711\n",
            "0.7315869927406311\n",
            "0.7278916239738464\n",
            "0.7243873476982117\n",
            "0.7210433483123779\n"
          ]
        }
      ]
    },
    {
      "cell_type": "code",
      "source": [
        "plt.plot(loss_history)"
      ],
      "metadata": {
        "colab": {
          "base_uri": "https://localhost:8080/",
          "height": 282
        },
        "id": "xwWQOPYd5oVR",
        "outputId": "75c19146-f14d-4d35-ebca-c211c29e6b30"
      },
      "execution_count": 9,
      "outputs": [
        {
          "output_type": "execute_result",
          "data": {
            "text/plain": [
              "[<matplotlib.lines.Line2D at 0x7f6d4fa63730>]"
            ]
          },
          "metadata": {},
          "execution_count": 9
        },
        {
          "output_type": "display_data",
          "data": {
            "text/plain": [
              "<Figure size 432x288 with 1 Axes>"
            ],
            "image/png": "[encoded data removed]"
          },
          "metadata": {
            "needs_background": "light"
          }
        }
      ]
    },
    {
      "cell_type": "markdown",
      "source": [
        "We will define the function `accuracy` which takes as inputs the targets and the predictions by the model and use it to evaluate the accuracy of our logistic regression model on the train and test datasets."
      ],
      "metadata": {
        "id": "7a2SXm6f5uVo"
      }
    },
    {
      "cell_type": "code",
      "source": [
        "y_pred = model(X_test_tensor)\n",
        "def accuracy(y_pred, T_test):\n",
        "  y_pred = y_pred.cpu().detach().numpy()\n",
        "  pred = []\n",
        "  t_test = []\n",
        "  for i in range(len(y_pred)):\n",
        "    maximum_y = max(y_pred[i])\n",
        "    maximum_T = max(T_test[i])\n",
        "    pred.append(np.where(y_pred[i] == maximum_y))\n",
        "    t_test.append(np.where(T_test[i] == maximum_T))\n",
        "  pred = np.array(pred)\n",
        "  t_test = np.array(t_test)\n",
        "\n",
        "  c = 0\n",
        "  for i in range(len(t_test)):\n",
        "    if pred[i] == t_test[i]:\n",
        "      c+=1\n",
        "\n",
        "  acc = c/len(T_test)\n",
        "\n",
        "  return acc\n"
      ],
      "metadata": {
        "id": "ZbfrUgno50dR"
      },
      "execution_count": 10,
      "outputs": []
    },
    {
      "cell_type": "code",
      "source": [
        "acc = accuracy(y_pred, T_test)\n",
        "print('Model accuracy = ',np.round(acc, 3))"
      ],
      "metadata": {
        "colab": {
          "base_uri": "https://localhost:8080/"
        },
        "id": "LHs51lq752Y2",
        "outputId": "de853d9f-135b-47a6-ec81-a8b313a1ec90"
      },
      "execution_count": 11,
      "outputs": [
        {
          "output_type": "stream",
          "name": "stdout",
          "text": [
            "Model accuracy =  0.875\n"
          ]
        }
      ]
    }
  ]
}