{
  "nbformat": 4,
  "nbformat_minor": 0,
  "metadata": {
    "colab": {
      "provenance": []
    },
    "kernelspec": {
      "name": "python3",
      "display_name": "Python 3"
    },
    "language_info": {
      "name": "python"
    },
    "accelerator": "GPU",
    "gpuClass": "standard",
    "widgets": {
      "application/vnd.jupyter.widget-state+json": {
        "032710d632384144970491f0afd31563": {
          "model_module": "@jupyter-widgets/controls",
          "model_name": "HBoxModel",
          "model_module_version": "1.5.0",
          "state": {
            "_dom_classes": [],
            "_model_module": "@jupyter-widgets/controls",
            "_model_module_version": "1.5.0",
            "_model_name": "HBoxModel",
            "_view_count": null,
            "_view_module": "@jupyter-widgets/controls",
            "_view_module_version": "1.5.0",
            "_view_name": "HBoxView",
            "box_style": "",
            "children": [
              "IPY_MODEL_10ec57e193884e6c9495c27497a13b35",
              "IPY_MODEL_46ae2709eb3643929eb3f46cfcb51f0b",
              "IPY_MODEL_9c8e3fdab24143c39db4e35057c636cf"
            ],
            "layout": "IPY_MODEL_5505040c46664249a8407b0ee51007ee"
          }
        },
        "10ec57e193884e6c9495c27497a13b35": {
          "model_module": "@jupyter-widgets/controls",
          "model_name": "HTMLModel",
          "model_module_version": "1.5.0",
          "state": {
            "_dom_classes": [],
            "_model_module": "@jupyter-widgets/controls",
            "_model_module_version": "1.5.0",
            "_model_name": "HTMLModel",
            "_view_count": null,
            "_view_module": "@jupyter-widgets/controls",
            "_view_module_version": "1.5.0",
            "_view_name": "HTMLView",
            "description": "",
            "description_tooltip": null,
            "layout": "IPY_MODEL_b808ba2dbded4be1b76c02902196bd21",
            "placeholder": "​",
            "style": "IPY_MODEL_0fb3081ead8848e0877daebe1bd6b282",
            "value": "100%"
          }
        },
        "46ae2709eb3643929eb3f46cfcb51f0b": {
          "model_module": "@jupyter-widgets/controls",
          "model_name": "FloatProgressModel",
          "model_module_version": "1.5.0",
          "state": {
            "_dom_classes": [],
            "_model_module": "@jupyter-widgets/controls",
            "_model_module_version": "1.5.0",
            "_model_name": "FloatProgressModel",
            "_view_count": null,
            "_view_module": "@jupyter-widgets/controls",
            "_view_module_version": "1.5.0",
            "_view_name": "ProgressView",
            "bar_style": "success",
            "description": "",
            "description_tooltip": null,
            "layout": "IPY_MODEL_760fff35d15940d3805872f52575870c",
            "max": 9912422,
            "min": 0,
            "orientation": "horizontal",
            "style": "IPY_MODEL_71148093a1ce4a3ba5ce16e47460e1ee",
            "value": 9912422
          }
        },
        "9c8e3fdab24143c39db4e35057c636cf": {
          "model_module": "@jupyter-widgets/controls",
          "model_name": "HTMLModel",
          "model_module_version": "1.5.0",
          "state": {
            "_dom_classes": [],
            "_model_module": "@jupyter-widgets/controls",
            "_model_module_version": "1.5.0",
            "_model_name": "HTMLModel",
            "_view_count": null,
            "_view_module": "@jupyter-widgets/controls",
            "_view_module_version": "1.5.0",
            "_view_name": "HTMLView",
            "description": "",
            "description_tooltip": null,
            "layout": "IPY_MODEL_9ff062991c534ba29f269244a959a975",
            "placeholder": "​",
            "style": "IPY_MODEL_4948ca185bba4862b0b9b1e523ea093e",
            "value": " 9912422/9912422 [00:00&lt;00:00, 73594568.88it/s]"
          }
        },
        "5505040c46664249a8407b0ee51007ee": {
          "model_module": "@jupyter-widgets/base",
          "model_name": "LayoutModel",
          "model_module_version": "1.2.0",
          "state": {
            "_model_module": "@jupyter-widgets/base",
            "_model_module_version": "1.2.0",
            "_model_name": "LayoutModel",
            "_view_count": null,
            "_view_module": "@jupyter-widgets/base",
            "_view_module_version": "1.2.0",
            "_view_name": "LayoutView",
            "align_content": null,
            "align_items": null,
            "align_self": null,
            "border": null,
            "bottom": null,
            "display": null,
            "flex": null,
            "flex_flow": null,
            "grid_area": null,
            "grid_auto_columns": null,
            "grid_auto_flow": null,
            "grid_auto_rows": null,
            "grid_column": null,
            "grid_gap": null,
            "grid_row": null,
            "grid_template_areas": null,
            "grid_template_columns": null,
            "grid_template_rows": null,
            "height": null,
            "justify_content": null,
            "justify_items": null,
            "left": null,
            "margin": null,
            "max_height": null,
            "max_width": null,
            "min_height": null,
            "min_width": null,
            "object_fit": null,
            "object_position": null,
            "order": null,
            "overflow": null,
            "overflow_x": null,
            "overflow_y": null,
            "padding": null,
            "right": null,
            "top": null,
            "visibility": null,
            "width": null
          }
        },
        "b808ba2dbded4be1b76c02902196bd21": {
          "model_module": "@jupyter-widgets/base",
          "model_name": "LayoutModel",
          "model_module_version": "1.2.0",
          "state": {
            "_model_module": "@jupyter-widgets/base",
            "_model_module_version": "1.2.0",
            "_model_name": "LayoutModel",
            "_view_count": null,
            "_view_module": "@jupyter-widgets/base",
            "_view_module_version": "1.2.0",
            "_view_name": "LayoutView",
            "align_content": null,
            "align_items": null,
            "align_self": null,
            "border": null,
            "bottom": null,
            "display": null,
            "flex": null,
            "flex_flow": null,
            "grid_area": null,
            "grid_auto_columns": null,
            "grid_auto_flow": null,
            "grid_auto_rows": null,
            "grid_column": null,
            "grid_gap": null,
            "grid_row": null,
            "grid_template_areas": null,
            "grid_template_columns": null,
            "grid_template_rows": null,
            "height": null,
            "justify_content": null,
            "justify_items": null,
            "left": null,
            "margin": null,
            "max_height": null,
            "max_width": null,
            "min_height": null,
            "min_width": null,
            "object_fit": null,
            "object_position": null,
            "order": null,
            "overflow": null,
            "overflow_x": null,
            "overflow_y": null,
            "padding": null,
            "right": null,
            "top": null,
            "visibility": null,
            "width": null
          }
        },
        "0fb3081ead8848e0877daebe1bd6b282": {
          "model_module": "@jupyter-widgets/controls",
          "model_name": "DescriptionStyleModel",
          "model_module_version": "1.5.0",
          "state": {
            "_model_module": "@jupyter-widgets/controls",
            "_model_module_version": "1.5.0",
            "_model_name": "DescriptionStyleModel",
            "_view_count": null,
            "_view_module": "@jupyter-widgets/base",
            "_view_module_version": "1.2.0",
            "_view_name": "StyleView",
            "description_width": ""
          }
        },
        "760fff35d15940d3805872f52575870c": {
          "model_module": "@jupyter-widgets/base",
          "model_name": "LayoutModel",
          "model_module_version": "1.2.0",
          "state": {
            "_model_module": "@jupyter-widgets/base",
            "_model_module_version": "1.2.0",
            "_model_name": "LayoutModel",
            "_view_count": null,
            "_view_module": "@jupyter-widgets/base",
            "_view_module_version": "1.2.0",
            "_view_name": "LayoutView",
            "align_content": null,
            "align_items": null,
            "align_self": null,
            "border": null,
            "bottom": null,
            "display": null,
            "flex": null,
            "flex_flow": null,
            "grid_area": null,
            "grid_auto_columns": null,
            "grid_auto_flow": null,
            "grid_auto_rows": null,
            "grid_column": null,
            "grid_gap": null,
            "grid_row": null,
            "grid_template_areas": null,
            "grid_template_columns": null,
            "grid_template_rows": null,
            "height": null,
            "justify_content": null,
            "justify_items": null,
            "left": null,
            "margin": null,
            "max_height": null,
            "max_width": null,
            "min_height": null,
            "min_width": null,
            "object_fit": null,
            "object_position": null,
            "order": null,
            "overflow": null,
            "overflow_x": null,
            "overflow_y": null,
            "padding": null,
            "right": null,
            "top": null,
            "visibility": null,
            "width": null
          }
        },
        "71148093a1ce4a3ba5ce16e47460e1ee": {
          "model_module": "@jupyter-widgets/controls",
          "model_name": "ProgressStyleModel",
          "model_module_version": "1.5.0",
          "state": {
            "_model_module": "@jupyter-widgets/controls",
            "_model_module_version": "1.5.0",
            "_model_name": "ProgressStyleModel",
            "_view_count": null,
            "_view_module": "@jupyter-widgets/base",
            "_view_module_version": "1.2.0",
            "_view_name": "StyleView",
            "bar_color": null,
            "description_width": ""
          }
        },
        "9ff062991c534ba29f269244a959a975": {
          "model_module": "@jupyter-widgets/base",
          "model_name": "LayoutModel",
          "model_module_version": "1.2.0",
          "state": {
            "_model_module": "@jupyter-widgets/base",
            "_model_module_version": "1.2.0",
            "_model_name": "LayoutModel",
            "_view_count": null,
            "_view_module": "@jupyter-widgets/base",
            "_view_module_version": "1.2.0",
            "_view_name": "LayoutView",
            "align_content": null,
            "align_items": null,
            "align_self": null,
            "border": null,
            "bottom": null,
            "display": null,
            "flex": null,
            "flex_flow": null,
            "grid_area": null,
            "grid_auto_columns": null,
            "grid_auto_flow": null,
            "grid_auto_rows": null,
            "grid_column": null,
            "grid_gap": null,
            "grid_row": null,
            "grid_template_areas": null,
            "grid_template_columns": null,
            "grid_template_rows": null,
            "height": null,
            "justify_content": null,
            "justify_items": null,
            "left": null,
            "margin": null,
            "max_height": null,
            "max_width": null,
            "min_height": null,
            "min_width": null,
            "object_fit": null,
            "object_position": null,
            "order": null,
            "overflow": null,
            "overflow_x": null,
            "overflow_y": null,
            "padding": null,
            "right": null,
            "top": null,
            "visibility": null,
            "width": null
          }
        },
        "4948ca185bba4862b0b9b1e523ea093e": {
          "model_module": "@jupyter-widgets/controls",
          "model_name": "DescriptionStyleModel",
          "model_module_version": "1.5.0",
          "state": {
            "_model_module": "@jupyter-widgets/controls",
            "_model_module_version": "1.5.0",
            "_model_name": "DescriptionStyleModel",
            "_view_count": null,
            "_view_module": "@jupyter-widgets/base",
            "_view_module_version": "1.2.0",
            "_view_name": "StyleView",
            "description_width": ""
          }
        },
        "69cd0874bba84bc9ac4ac782df47063e": {
          "model_module": "@jupyter-widgets/controls",
          "model_name": "HBoxModel",
          "model_module_version": "1.5.0",
          "state": {
            "_dom_classes": [],
            "_model_module": "@jupyter-widgets/controls",
            "_model_module_version": "1.5.0",
            "_model_name": "HBoxModel",
            "_view_count": null,
            "_view_module": "@jupyter-widgets/controls",
            "_view_module_version": "1.5.0",
            "_view_name": "HBoxView",
            "box_style": "",
            "children": [
              "IPY_MODEL_9c0b8bf90a8342c9a818f1b27d2a9a72",
              "IPY_MODEL_4e82fee8ca86470ba893278bec7e67f5",
              "IPY_MODEL_4fe243d1678d474986b9e6618bc6fa0d"
            ],
            "layout": "IPY_MODEL_913416ad91da4d1182e62f5ef0c14460"
          }
        },
        "9c0b8bf90a8342c9a818f1b27d2a9a72": {
          "model_module": "@jupyter-widgets/controls",
          "model_name": "HTMLModel",
          "model_module_version": "1.5.0",
          "state": {
            "_dom_classes": [],
            "_model_module": "@jupyter-widgets/controls",
            "_model_module_version": "1.5.0",
            "_model_name": "HTMLModel",
            "_view_count": null,
            "_view_module": "@jupyter-widgets/controls",
            "_view_module_version": "1.5.0",
            "_view_name": "HTMLView",
            "description": "",
            "description_tooltip": null,
            "layout": "IPY_MODEL_817bb2ef32c54412919de2603572b402",
            "placeholder": "​",
            "style": "IPY_MODEL_d7beccf8422646d18bf79df796a4a5f7",
            "value": "100%"
          }
        },
        "4e82fee8ca86470ba893278bec7e67f5": {
          "model_module": "@jupyter-widgets/controls",
          "model_name": "FloatProgressModel",
          "model_module_version": "1.5.0",
          "state": {
            "_dom_classes": [],
            "_model_module": "@jupyter-widgets/controls",
            "_model_module_version": "1.5.0",
            "_model_name": "FloatProgressModel",
            "_view_count": null,
            "_view_module": "@jupyter-widgets/controls",
            "_view_module_version": "1.5.0",
            "_view_name": "ProgressView",
            "bar_style": "success",
            "description": "",
            "description_tooltip": null,
            "layout": "IPY_MODEL_b00dfcf3eca94ce589a5350b1b013e8b",
            "max": 28881,
            "min": 0,
            "orientation": "horizontal",
            "style": "IPY_MODEL_c0c5e63ba04748a48534e1451701dff3",
            "value": 28881
          }
        },
        "4fe243d1678d474986b9e6618bc6fa0d": {
          "model_module": "@jupyter-widgets/controls",
          "model_name": "HTMLModel",
          "model_module_version": "1.5.0",
          "state": {
            "_dom_classes": [],
            "_model_module": "@jupyter-widgets/controls",
            "_model_module_version": "1.5.0",
            "_model_name": "HTMLModel",
            "_view_count": null,
            "_view_module": "@jupyter-widgets/controls",
            "_view_module_version": "1.5.0",
            "_view_name": "HTMLView",
            "description": "",
            "description_tooltip": null,
            "layout": "IPY_MODEL_5939d02a102c48eaadd1da6cf65016ca",
            "placeholder": "​",
            "style": "IPY_MODEL_53d0f5d3bc1c452aa4bc147bc67d4c7b",
            "value": " 28881/28881 [00:00&lt;00:00, 1168327.44it/s]"
          }
        },
        "913416ad91da4d1182e62f5ef0c14460": {
          "model_module": "@jupyter-widgets/base",
          "model_name": "LayoutModel",
          "model_module_version": "1.2.0",
          "state": {
            "_model_module": "@jupyter-widgets/base",
            "_model_module_version": "1.2.0",
            "_model_name": "LayoutModel",
            "_view_count": null,
            "_view_module": "@jupyter-widgets/base",
            "_view_module_version": "1.2.0",
            "_view_name": "LayoutView",
            "align_content": null,
            "align_items": null,
            "align_self": null,
            "border": null,
            "bottom": null,
            "display": null,
            "flex": null,
            "flex_flow": null,
            "grid_area": null,
            "grid_auto_columns": null,
            "grid_auto_flow": null,
            "grid_auto_rows": null,
            "grid_column": null,
            "grid_gap": null,
            "grid_row": null,
            "grid_template_areas": null,
            "grid_template_columns": null,
            "grid_template_rows": null,
            "height": null,
            "justify_content": null,
            "justify_items": null,
            "left": null,
            "margin": null,
            "max_height": null,
            "max_width": null,
            "min_height": null,
            "min_width": null,
            "object_fit": null,
            "object_position": null,
            "order": null,
            "overflow": null,
            "overflow_x": null,
            "overflow_y": null,
            "padding": null,
            "right": null,
            "top": null,
            "visibility": null,
            "width": null
          }
        },
        "817bb2ef32c54412919de2603572b402": {
          "model_module": "@jupyter-widgets/base",
          "model_name": "LayoutModel",
          "model_module_version": "1.2.0",
          "state": {
            "_model_module": "@jupyter-widgets/base",
            "_model_module_version": "1.2.0",
            "_model_name": "LayoutModel",
            "_view_count": null,
            "_view_module": "@jupyter-widgets/base",
            "_view_module_version": "1.2.0",
            "_view_name": "LayoutView",
            "align_content": null,
            "align_items": null,
            "align_self": null,
            "border": null,
            "bottom": null,
            "display": null,
            "flex": null,
            "flex_flow": null,
            "grid_area": null,
            "grid_auto_columns": null,
            "grid_auto_flow": null,
            "grid_auto_rows": null,
            "grid_column": null,
            "grid_gap": null,
            "grid_row": null,
            "grid_template_areas": null,
            "grid_template_columns": null,
            "grid_template_rows": null,
            "height": null,
            "justify_content": null,
            "justify_items": null,
            "left": null,
            "margin": null,
            "max_height": null,
            "max_width": null,
            "min_height": null,
            "min_width": null,
            "object_fit": null,
            "object_position": null,
            "order": null,
            "overflow": null,
            "overflow_x": null,
            "overflow_y": null,
            "padding": null,
            "right": null,
            "top": null,
            "visibility": null,
            "width": null
          }
        },
        "d7beccf8422646d18bf79df796a4a5f7": {
          "model_module": "@jupyter-widgets/controls",
          "model_name": "DescriptionStyleModel",
          "model_module_version": "1.5.0",
          "state": {
            "_model_module": "@jupyter-widgets/controls",
            "_model_module_version": "1.5.0",
            "_model_name": "DescriptionStyleModel",
            "_view_count": null,
            "_view_module": "@jupyter-widgets/base",
            "_view_module_version": "1.2.0",
            "_view_name": "StyleView",
            "description_width": ""
          }
        },
        "b00dfcf3eca94ce589a5350b1b013e8b": {
          "model_module": "@jupyter-widgets/base",
          "model_name": "LayoutModel",
          "model_module_version": "1.2.0",
          "state": {
            "_model_module": "@jupyter-widgets/base",
            "_model_module_version": "1.2.0",
            "_model_name": "LayoutModel",
            "_view_count": null,
            "_view_module": "@jupyter-widgets/base",
            "_view_module_version": "1.2.0",
            "_view_name": "LayoutView",
            "align_content": null,
            "align_items": null,
            "align_self": null,
            "border": null,
            "bottom": null,
            "display": null,
            "flex": null,
            "flex_flow": null,
            "grid_area": null,
            "grid_auto_columns": null,
            "grid_auto_flow": null,
            "grid_auto_rows": null,
            "grid_column": null,
            "grid_gap": null,
            "grid_row": null,
            "grid_template_areas": null,
            "grid_template_columns": null,
            "grid_template_rows": null,
            "height": null,
            "justify_content": null,
            "justify_items": null,
            "left": null,
            "margin": null,
            "max_height": null,
            "max_width": null,
            "min_height": null,
            "min_width": null,
            "object_fit": null,
            "object_position": null,
            "order": null,
            "overflow": null,
            "overflow_x": null,
            "overflow_y": null,
            "padding": null,
            "right": null,
            "top": null,
            "visibility": null,
            "width": null
          }
        },
        "c0c5e63ba04748a48534e1451701dff3": {
          "model_module": "@jupyter-widgets/controls",
          "model_name": "ProgressStyleModel",
          "model_module_version": "1.5.0",
          "state": {
            "_model_module": "@jupyter-widgets/controls",
            "_model_module_version": "1.5.0",
            "_model_name": "ProgressStyleModel",
            "_view_count": null,
            "_view_module": "@jupyter-widgets/base",
            "_view_module_version": "1.2.0",
            "_view_name": "StyleView",
            "bar_color": null,
            "description_width": ""
          }
        },
        "5939d02a102c48eaadd1da6cf65016ca": {
          "model_module": "@jupyter-widgets/base",
          "model_name": "LayoutModel",
          "model_module_version": "1.2.0",
          "state": {
            "_model_module": "@jupyter-widgets/base",
            "_model_module_version": "1.2.0",
            "_model_name": "LayoutModel",
            "_view_count": null,
            "_view_module": "@jupyter-widgets/base",
            "_view_module_version": "1.2.0",
            "_view_name": "LayoutView",
            "align_content": null,
            "align_items": null,
            "align_self": null,
            "border": null,
            "bottom": null,
            "display": null,
            "flex": null,
            "flex_flow": null,
            "grid_area": null,
            "grid_auto_columns": null,
            "grid_auto_flow": null,
            "grid_auto_rows": null,
            "grid_column": null,
            "grid_gap": null,
            "grid_row": null,
            "grid_template_areas": null,
            "grid_template_columns": null,
            "grid_template_rows": null,
            "height": null,
            "justify_content": null,
            "justify_items": null,
            "left": null,
            "margin": null,
            "max_height": null,
            "max_width": null,
            "min_height": null,
            "min_width": null,
            "object_fit": null,
            "object_position": null,
            "order": null,
            "overflow": null,
            "overflow_x": null,
            "overflow_y": null,
            "padding": null,
            "right": null,
            "top": null,
            "visibility": null,
            "width": null
          }
        },
        "53d0f5d3bc1c452aa4bc147bc67d4c7b": {
          "model_module": "@jupyter-widgets/controls",
          "model_name": "DescriptionStyleModel",
          "model_module_version": "1.5.0",
          "state": {
            "_model_module": "@jupyter-widgets/controls",
            "_model_module_version": "1.5.0",
            "_model_name": "DescriptionStyleModel",
            "_view_count": null,
            "_view_module": "@jupyter-widgets/base",
            "_view_module_version": "1.2.0",
            "_view_name": "StyleView",
            "description_width": ""
          }
        },
        "dd0a3b65c9fb4ecd8d5b7f6b0b654f37": {
          "model_module": "@jupyter-widgets/controls",
          "model_name": "HBoxModel",
          "model_module_version": "1.5.0",
          "state": {
            "_dom_classes": [],
            "_model_module": "@jupyter-widgets/controls",
            "_model_module_version": "1.5.0",
            "_model_name": "HBoxModel",
            "_view_count": null,
            "_view_module": "@jupyter-widgets/controls",
            "_view_module_version": "1.5.0",
            "_view_name": "HBoxView",
            "box_style": "",
            "children": [
              "IPY_MODEL_424c4b813f8d416cadf73db6b0ba045c",
              "IPY_MODEL_59f10e70631c4a9da05178152a6e35a6",
              "IPY_MODEL_2496129d32434734b684ab792bfaa7c7"
            ],
            "layout": "IPY_MODEL_09fd12abc71f4795a820e87821c1a2ff"
          }
        },
        "424c4b813f8d416cadf73db6b0ba045c": {
          "model_module": "@jupyter-widgets/controls",
          "model_name": "HTMLModel",
          "model_module_version": "1.5.0",
          "state": {
            "_dom_classes": [],
            "_model_module": "@jupyter-widgets/controls",
            "_model_module_version": "1.5.0",
            "_model_name": "HTMLModel",
            "_view_count": null,
            "_view_module": "@jupyter-widgets/controls",
            "_view_module_version": "1.5.0",
            "_view_name": "HTMLView",
            "description": "",
            "description_tooltip": null,
            "layout": "IPY_MODEL_f3b52aceb26e4a9d863bd82597ac622d",
            "placeholder": "​",
            "style": "IPY_MODEL_ff8dfa7328224acda9795a44fc3d1a10",
            "value": "100%"
          }
        },
        "59f10e70631c4a9da05178152a6e35a6": {
          "model_module": "@jupyter-widgets/controls",
          "model_name": "FloatProgressModel",
          "model_module_version": "1.5.0",
          "state": {
            "_dom_classes": [],
            "_model_module": "@jupyter-widgets/controls",
            "_model_module_version": "1.5.0",
            "_model_name": "FloatProgressModel",
            "_view_count": null,
            "_view_module": "@jupyter-widgets/controls",
            "_view_module_version": "1.5.0",
            "_view_name": "ProgressView",
            "bar_style": "success",
            "description": "",
            "description_tooltip": null,
            "layout": "IPY_MODEL_4a2822518c944bbc9c04edf18ccc0d51",
            "max": 1648877,
            "min": 0,
            "orientation": "horizontal",
            "style": "IPY_MODEL_54d8598eff1748169fe939fce657adba",
            "value": 1648877
          }
        },
        "2496129d32434734b684ab792bfaa7c7": {
          "model_module": "@jupyter-widgets/controls",
          "model_name": "HTMLModel",
          "model_module_version": "1.5.0",
          "state": {
            "_dom_classes": [],
            "_model_module": "@jupyter-widgets/controls",
            "_model_module_version": "1.5.0",
            "_model_name": "HTMLModel",
            "_view_count": null,
            "_view_module": "@jupyter-widgets/controls",
            "_view_module_version": "1.5.0",
            "_view_name": "HTMLView",
            "description": "",
            "description_tooltip": null,
            "layout": "IPY_MODEL_f852cba3c09f47cea341f06671968e55",
            "placeholder": "​",
            "style": "IPY_MODEL_e2e3d9d987ca4ac19446b16d91c34779",
            "value": " 1648877/1648877 [00:00&lt;00:00, 1261981.67it/s]"
          }
        },
        "09fd12abc71f4795a820e87821c1a2ff": {
          "model_module": "@jupyter-widgets/base",
          "model_name": "LayoutModel",
          "model_module_version": "1.2.0",
          "state": {
            "_model_module": "@jupyter-widgets/base",
            "_model_module_version": "1.2.0",
            "_model_name": "LayoutModel",
            "_view_count": null,
            "_view_module": "@jupyter-widgets/base",
            "_view_module_version": "1.2.0",
            "_view_name": "LayoutView",
            "align_content": null,
            "align_items": null,
            "align_self": null,
            "border": null,
            "bottom": null,
            "display": null,
            "flex": null,
            "flex_flow": null,
            "grid_area": null,
            "grid_auto_columns": null,
            "grid_auto_flow": null,
            "grid_auto_rows": null,
            "grid_column": null,
            "grid_gap": null,
            "grid_row": null,
            "grid_template_areas": null,
            "grid_template_columns": null,
            "grid_template_rows": null,
            "height": null,
            "justify_content": null,
            "justify_items": null,
            "left": null,
            "margin": null,
            "max_height": null,
            "max_width": null,
            "min_height": null,
            "min_width": null,
            "object_fit": null,
            "object_position": null,
            "order": null,
            "overflow": null,
            "overflow_x": null,
            "overflow_y": null,
            "padding": null,
            "right": null,
            "top": null,
            "visibility": null,
            "width": null
          }
        },
        "f3b52aceb26e4a9d863bd82597ac622d": {
          "model_module": "@jupyter-widgets/base",
          "model_name": "LayoutModel",
          "model_module_version": "1.2.0",
          "state": {
            "_model_module": "@jupyter-widgets/base",
            "_model_module_version": "1.2.0",
            "_model_name": "LayoutModel",
            "_view_count": null,
            "_view_module": "@jupyter-widgets/base",
            "_view_module_version": "1.2.0",
            "_view_name": "LayoutView",
            "align_content": null,
            "align_items": null,
            "align_self": null,
            "border": null,
            "bottom": null,
            "display": null,
            "flex": null,
            "flex_flow": null,
            "grid_area": null,
            "grid_auto_columns": null,
            "grid_auto_flow": null,
            "grid_auto_rows": null,
            "grid_column": null,
            "grid_gap": null,
            "grid_row": null,
            "grid_template_areas": null,
            "grid_template_columns": null,
            "grid_template_rows": null,
            "height": null,
            "justify_content": null,
            "justify_items": null,
            "left": null,
            "margin": null,
            "max_height": null,
            "max_width": null,
            "min_height": null,
            "min_width": null,
            "object_fit": null,
            "object_position": null,
            "order": null,
            "overflow": null,
            "overflow_x": null,
            "overflow_y": null,
            "padding": null,
            "right": null,
            "top": null,
            "visibility": null,
            "width": null
          }
        },
        "ff8dfa7328224acda9795a44fc3d1a10": {
          "model_module": "@jupyter-widgets/controls",
          "model_name": "DescriptionStyleModel",
          "model_module_version": "1.5.0",
          "state": {
            "_model_module": "@jupyter-widgets/controls",
            "_model_module_version": "1.5.0",
            "_model_name": "DescriptionStyleModel",
            "_view_count": null,
            "_view_module": "@jupyter-widgets/base",
            "_view_module_version": "1.2.0",
            "_view_name": "StyleView",
            "description_width": ""
          }
        },
        "4a2822518c944bbc9c04edf18ccc0d51": {
          "model_module": "@jupyter-widgets/base",
          "model_name": "LayoutModel",
          "model_module_version": "1.2.0",
          "state": {
            "_model_module": "@jupyter-widgets/base",
            "_model_module_version": "1.2.0",
            "_model_name": "LayoutModel",
            "_view_count": null,
            "_view_module": "@jupyter-widgets/base",
            "_view_module_version": "1.2.0",
            "_view_name": "LayoutView",
            "align_content": null,
            "align_items": null,
            "align_self": null,
            "border": null,
            "bottom": null,
            "display": null,
            "flex": null,
            "flex_flow": null,
            "grid_area": null,
            "grid_auto_columns": null,
            "grid_auto_flow": null,
            "grid_auto_rows": null,
            "grid_column": null,
            "grid_gap": null,
            "grid_row": null,
            "grid_template_areas": null,
            "grid_template_columns": null,
            "grid_template_rows": null,
            "height": null,
            "justify_content": null,
            "justify_items": null,
            "left": null,
            "margin": null,
            "max_height": null,
            "max_width": null,
            "min_height": null,
            "min_width": null,
            "object_fit": null,
            "object_position": null,
            "order": null,
            "overflow": null,
            "overflow_x": null,
            "overflow_y": null,
            "padding": null,
            "right": null,
            "top": null,
            "visibility": null,
            "width": null
          }
        },
        "54d8598eff1748169fe939fce657adba": {
          "model_module": "@jupyter-widgets/controls",
          "model_name": "ProgressStyleModel",
          "model_module_version": "1.5.0",
          "state": {
            "_model_module": "@jupyter-widgets/controls",
            "_model_module_version": "1.5.0",
            "_model_name": "ProgressStyleModel",
            "_view_count": null,
            "_view_module": "@jupyter-widgets/base",
            "_view_module_version": "1.2.0",
            "_view_name": "StyleView",
            "bar_color": null,
            "description_width": ""
          }
        },
        "f852cba3c09f47cea341f06671968e55": {
          "model_module": "@jupyter-widgets/base",
          "model_name": "LayoutModel",
          "model_module_version": "1.2.0",
          "state": {
            "_model_module": "@jupyter-widgets/base",
            "_model_module_version": "1.2.0",
            "_model_name": "LayoutModel",
            "_view_count": null,
            "_view_module": "@jupyter-widgets/base",
            "_view_module_version": "1.2.0",
            "_view_name": "LayoutView",
            "align_content": null,
            "align_items": null,
            "align_self": null,
            "border": null,
            "bottom": null,
            "display": null,
            "flex": null,
            "flex_flow": null,
            "grid_area": null,
            "grid_auto_columns": null,
            "grid_auto_flow": null,
            "grid_auto_rows": null,
            "grid_column": null,
            "grid_gap": null,
            "grid_row": null,
            "grid_template_areas": null,
            "grid_template_columns": null,
            "grid_template_rows": null,
            "height": null,
            "justify_content": null,
            "justify_items": null,
            "left": null,
            "margin": null,
            "max_height": null,
            "max_width": null,
            "min_height": null,
            "min_width": null,
            "object_fit": null,
            "object_position": null,
            "order": null,
            "overflow": null,
            "overflow_x": null,
            "overflow_y": null,
            "padding": null,
            "right": null,
            "top": null,
            "visibility": null,
            "width": null
          }
        },
        "e2e3d9d987ca4ac19446b16d91c34779": {
          "model_module": "@jupyter-widgets/controls",
          "model_name": "DescriptionStyleModel",
          "model_module_version": "1.5.0",
          "state": {
            "_model_module": "@jupyter-widgets/controls",
            "_model_module_version": "1.5.0",
            "_model_name": "DescriptionStyleModel",
            "_view_count": null,
            "_view_module": "@jupyter-widgets/base",
            "_view_module_version": "1.2.0",
            "_view_name": "StyleView",
            "description_width": ""
          }
        },
        "074c3a0d026c436ba27067280fc6d1ac": {
          "model_module": "@jupyter-widgets/controls",
          "model_name": "HBoxModel",
          "model_module_version": "1.5.0",
          "state": {
            "_dom_classes": [],
            "_model_module": "@jupyter-widgets/controls",
            "_model_module_version": "1.5.0",
            "_model_name": "HBoxModel",
            "_view_count": null,
            "_view_module": "@jupyter-widgets/controls",
            "_view_module_version": "1.5.0",
            "_view_name": "HBoxView",
            "box_style": "",
            "children": [
              "IPY_MODEL_2041bdcce1ce48c0aba9f544daa87278",
              "IPY_MODEL_15312157f0f14c7ba9f113f07df97c46",
              "IPY_MODEL_0df6831cd3b3458284bc8a48a5505e43"
            ],
            "layout": "IPY_MODEL_3bbbd15346df45d7be5d5d995b9b8160"
          }
        },
        "2041bdcce1ce48c0aba9f544daa87278": {
          "model_module": "@jupyter-widgets/controls",
          "model_name": "HTMLModel",
          "model_module_version": "1.5.0",
          "state": {
            "_dom_classes": [],
            "_model_module": "@jupyter-widgets/controls",
            "_model_module_version": "1.5.0",
            "_model_name": "HTMLModel",
            "_view_count": null,
            "_view_module": "@jupyter-widgets/controls",
            "_view_module_version": "1.5.0",
            "_view_name": "HTMLView",
            "description": "",
            "description_tooltip": null,
            "layout": "IPY_MODEL_b18691c4914a41209a6b3ee5825e8d9d",
            "placeholder": "​",
            "style": "IPY_MODEL_316f53f0431443088a57ef54b249b50c",
            "value": "100%"
          }
        },
        "15312157f0f14c7ba9f113f07df97c46": {
          "model_module": "@jupyter-widgets/controls",
          "model_name": "FloatProgressModel",
          "model_module_version": "1.5.0",
          "state": {
            "_dom_classes": [],
            "_model_module": "@jupyter-widgets/controls",
            "_model_module_version": "1.5.0",
            "_model_name": "FloatProgressModel",
            "_view_count": null,
            "_view_module": "@jupyter-widgets/controls",
            "_view_module_version": "1.5.0",
            "_view_name": "ProgressView",
            "bar_style": "success",
            "description": "",
            "description_tooltip": null,
            "layout": "IPY_MODEL_d060b7a588f54b1993e7748b61435a97",
            "max": 4542,
            "min": 0,
            "orientation": "horizontal",
            "style": "IPY_MODEL_4b4a2f84454d4186aff70df1435e1e80",
            "value": 4542
          }
        },
        "0df6831cd3b3458284bc8a48a5505e43": {
          "model_module": "@jupyter-widgets/controls",
          "model_name": "HTMLModel",
          "model_module_version": "1.5.0",
          "state": {
            "_dom_classes": [],
            "_model_module": "@jupyter-widgets/controls",
            "_model_module_version": "1.5.0",
            "_model_name": "HTMLModel",
            "_view_count": null,
            "_view_module": "@jupyter-widgets/controls",
            "_view_module_version": "1.5.0",
            "_view_name": "HTMLView",
            "description": "",
            "description_tooltip": null,
            "layout": "IPY_MODEL_7d932958349f48948c6f84ab2571773e",
            "placeholder": "​",
            "style": "IPY_MODEL_0115d890b5be4ee1adcbf0c92d604eb6",
            "value": " 4542/4542 [00:00&lt;00:00, 129050.26it/s]"
          }
        },
        "3bbbd15346df45d7be5d5d995b9b8160": {
          "model_module": "@jupyter-widgets/base",
          "model_name": "LayoutModel",
          "model_module_version": "1.2.0",
          "state": {
            "_model_module": "@jupyter-widgets/base",
            "_model_module_version": "1.2.0",
            "_model_name": "LayoutModel",
            "_view_count": null,
            "_view_module": "@jupyter-widgets/base",
            "_view_module_version": "1.2.0",
            "_view_name": "LayoutView",
            "align_content": null,
            "align_items": null,
            "align_self": null,
            "border": null,
            "bottom": null,
            "display": null,
            "flex": null,
            "flex_flow": null,
            "grid_area": null,
            "grid_auto_columns": null,
            "grid_auto_flow": null,
            "grid_auto_rows": null,
            "grid_column": null,
            "grid_gap": null,
            "grid_row": null,
            "grid_template_areas": null,
            "grid_template_columns": null,
            "grid_template_rows": null,
            "height": null,
            "justify_content": null,
            "justify_items": null,
            "left": null,
            "margin": null,
            "max_height": null,
            "max_width": null,
            "min_height": null,
            "min_width": null,
            "object_fit": null,
            "object_position": null,
            "order": null,
            "overflow": null,
            "overflow_x": null,
            "overflow_y": null,
            "padding": null,
            "right": null,
            "top": null,
            "visibility": null,
            "width": null
          }
        },
        "b18691c4914a41209a6b3ee5825e8d9d": {
          "model_module": "@jupyter-widgets/base",
          "model_name": "LayoutModel",
          "model_module_version": "1.2.0",
          "state": {
            "_model_module": "@jupyter-widgets/base",
            "_model_module_version": "1.2.0",
            "_model_name": "LayoutModel",
            "_view_count": null,
            "_view_module": "@jupyter-widgets/base",
            "_view_module_version": "1.2.0",
            "_view_name": "LayoutView",
            "align_content": null,
            "align_items": null,
            "align_self": null,
            "border": null,
            "bottom": null,
            "display": null,
            "flex": null,
            "flex_flow": null,
            "grid_area": null,
            "grid_auto_columns": null,
            "grid_auto_flow": null,
            "grid_auto_rows": null,
            "grid_column": null,
            "grid_gap": null,
            "grid_row": null,
            "grid_template_areas": null,
            "grid_template_columns": null,
            "grid_template_rows": null,
            "height": null,
            "justify_content": null,
            "justify_items": null,
            "left": null,
            "margin": null,
            "max_height": null,
            "max_width": null,
            "min_height": null,
            "min_width": null,
            "object_fit": null,
            "object_position": null,
            "order": null,
            "overflow": null,
            "overflow_x": null,
            "overflow_y": null,
            "padding": null,
            "right": null,
            "top": null,
            "visibility": null,
            "width": null
          }
        },
        "316f53f0431443088a57ef54b249b50c": {
          "model_module": "@jupyter-widgets/controls",
          "model_name": "DescriptionStyleModel",
          "model_module_version": "1.5.0",
          "state": {
            "_model_module": "@jupyter-widgets/controls",
            "_model_module_version": "1.5.0",
            "_model_name": "DescriptionStyleModel",
            "_view_count": null,
            "_view_module": "@jupyter-widgets/base",
            "_view_module_version": "1.2.0",
            "_view_name": "StyleView",
            "description_width": ""
          }
        },
        "d060b7a588f54b1993e7748b61435a97": {
          "model_module": "@jupyter-widgets/base",
          "model_name": "LayoutModel",
          "model_module_version": "1.2.0",
          "state": {
            "_model_module": "@jupyter-widgets/base",
            "_model_module_version": "1.2.0",
            "_model_name": "LayoutModel",
            "_view_count": null,
            "_view_module": "@jupyter-widgets/base",
            "_view_module_version": "1.2.0",
            "_view_name": "LayoutView",
            "align_content": null,
            "align_items": null,
            "align_self": null,
            "border": null,
            "bottom": null,
            "display": null,
            "flex": null,
            "flex_flow": null,
            "grid_area": null,
            "grid_auto_columns": null,
            "grid_auto_flow": null,
            "grid_auto_rows": null,
            "grid_column": null,
            "grid_gap": null,
            "grid_row": null,
            "grid_template_areas": null,
            "grid_template_columns": null,
            "grid_template_rows": null,
            "height": null,
            "justify_content": null,
            "justify_items": null,
            "left": null,
            "margin": null,
            "max_height": null,
            "max_width": null,
            "min_height": null,
            "min_width": null,
            "object_fit": null,
            "object_position": null,
            "order": null,
            "overflow": null,
            "overflow_x": null,
            "overflow_y": null,
            "padding": null,
            "right": null,
            "top": null,
            "visibility": null,
            "width": null
          }
        },
        "4b4a2f84454d4186aff70df1435e1e80": {
          "model_module": "@jupyter-widgets/controls",
          "model_name": "ProgressStyleModel",
          "model_module_version": "1.5.0",
          "state": {
            "_model_module": "@jupyter-widgets/controls",
            "_model_module_version": "1.5.0",
            "_model_name": "ProgressStyleModel",
            "_view_count": null,
            "_view_module": "@jupyter-widgets/base",
            "_view_module_version": "1.2.0",
            "_view_name": "StyleView",
            "bar_color": null,
            "description_width": ""
          }
        },
        "7d932958349f48948c6f84ab2571773e": {
          "model_module": "@jupyter-widgets/base",
          "model_name": "LayoutModel",
          "model_module_version": "1.2.0",
          "state": {
            "_model_module": "@jupyter-widgets/base",
            "_model_module_version": "1.2.0",
            "_model_name": "LayoutModel",
            "_view_count": null,
            "_view_module": "@jupyter-widgets/base",
            "_view_module_version": "1.2.0",
            "_view_name": "LayoutView",
            "align_content": null,
            "align_items": null,
            "align_self": null,
            "border": null,
            "bottom": null,
            "display": null,
            "flex": null,
            "flex_flow": null,
            "grid_area": null,
            "grid_auto_columns": null,
            "grid_auto_flow": null,
            "grid_auto_rows": null,
            "grid_column": null,
            "grid_gap": null,
            "grid_row": null,
            "grid_template_areas": null,
            "grid_template_columns": null,
            "grid_template_rows": null,
            "height": null,
            "justify_content": null,
            "justify_items": null,
            "left": null,
            "margin": null,
            "max_height": null,
            "max_width": null,
            "min_height": null,
            "min_width": null,
            "object_fit": null,
            "object_position": null,
            "order": null,
            "overflow": null,
            "overflow_x": null,
            "overflow_y": null,
            "padding": null,
            "right": null,
            "top": null,
            "visibility": null,
            "width": null
          }
        },
        "0115d890b5be4ee1adcbf0c92d604eb6": {
          "model_module": "@jupyter-widgets/controls",
          "model_name": "DescriptionStyleModel",
          "model_module_version": "1.5.0",
          "state": {
            "_model_module": "@jupyter-widgets/controls",
            "_model_module_version": "1.5.0",
            "_model_name": "DescriptionStyleModel",
            "_view_count": null,
            "_view_module": "@jupyter-widgets/base",
            "_view_module_version": "1.2.0",
            "_view_name": "StyleView",
            "description_width": ""
          }
        }
      }
    }
  },
  "cells": [
    {
      "cell_type": "code",
      "execution_count": 1,
      "metadata": {
        "colab": {
          "base_uri": "https://localhost:8080/"
        },
        "id": "G1M0bJORfJYj",
        "outputId": "6ea532d5-bf2f-437d-b770-574b1b8e676d"
      },
      "outputs": [
        {
          "output_type": "execute_result",
          "data": {
            "text/plain": [
              "True"
            ]
          },
          "metadata": {},
          "execution_count": 1
        }
      ],
      "source": [
        "import torch\n",
        "import numpy as np\n",
        "import pandas as pd\n",
        "import matplotlib.pyplot as plt\n",
        "import torchvision\n",
        "import torch.nn as nn\n",
        "import torch.nn.functional as F\n",
        "import torch.optim as optim\n",
        "# check if a GPU is available for pytorch\n",
        "torch.cuda.is_available()"
      ]
    },
    {
      "cell_type": "code",
      "source": [
        "if torch.cuda.is_available():\n",
        "  DEVICE = torch.device('cuda')\n",
        "else:\n",
        "  DEVICE = torch.device('cpu')"
      ],
      "metadata": {
        "id": "Mz2AoRXSf-KQ"
      },
      "execution_count": 2,
      "outputs": []
    },
    {
      "cell_type": "code",
      "source": [
        "batch_size_train = 64 \n",
        "\n",
        "batch_size_test = 1000\n",
        "\n",
        "train_loader = torch.utils.data.DataLoader(\n",
        "    torchvision.datasets.MNIST('./files/', train=True, download=True,\n",
        "          transform=torchvision.transforms.Compose([\n",
        "              torchvision.transforms.ToTensor(),\n",
        "              torchvision.transforms.Normalize( \n",
        "                  (0.1307,), (0.3081,)),\n",
        "                             \n",
        "          ])),\n",
        "    batch_size=batch_size_train, shuffle=True)\n",
        "\n",
        "test_loader = torch.utils.data.DataLoader(\n",
        "    torchvision.datasets.MNIST('./files/', train=False, download=True,\n",
        "          transform=torchvision.transforms.Compose([\n",
        "              torchvision.transforms.ToTensor(),\n",
        "              torchvision.transforms.Normalize(\n",
        "                  (0.1307,), (0.3081,)),\n",
        "          ])),\n",
        "    batch_size=batch_size_test, shuffle=True)"
      ],
      "metadata": {
        "colab": {
          "base_uri": "https://localhost:8080/",
          "height": 423,
          "referenced_widgets": [
            "032710d632384144970491f0afd31563",
            "10ec57e193884e6c9495c27497a13b35",
            "46ae2709eb3643929eb3f46cfcb51f0b",
            "9c8e3fdab24143c39db4e35057c636cf",
            "5505040c46664249a8407b0ee51007ee",
            "b808ba2dbded4be1b76c02902196bd21",
            "0fb3081ead8848e0877daebe1bd6b282",
            "760fff35d15940d3805872f52575870c",
            "71148093a1ce4a3ba5ce16e47460e1ee",
            "9ff062991c534ba29f269244a959a975",
            "4948ca185bba4862b0b9b1e523ea093e",
            "69cd0874bba84bc9ac4ac782df47063e",
            "9c0b8bf90a8342c9a818f1b27d2a9a72",
            "4e82fee8ca86470ba893278bec7e67f5",
            "4fe243d1678d474986b9e6618bc6fa0d",
            "913416ad91da4d1182e62f5ef0c14460",
            "817bb2ef32c54412919de2603572b402",
            "d7beccf8422646d18bf79df796a4a5f7",
            "b00dfcf3eca94ce589a5350b1b013e8b",
            "c0c5e63ba04748a48534e1451701dff3",
            "5939d02a102c48eaadd1da6cf65016ca",
            "53d0f5d3bc1c452aa4bc147bc67d4c7b",
            "dd0a3b65c9fb4ecd8d5b7f6b0b654f37",
            "424c4b813f8d416cadf73db6b0ba045c",
            "59f10e70631c4a9da05178152a6e35a6",
            "2496129d32434734b684ab792bfaa7c7",
            "09fd12abc71f4795a820e87821c1a2ff",
            "f3b52aceb26e4a9d863bd82597ac622d",
            "ff8dfa7328224acda9795a44fc3d1a10",
            "4a2822518c944bbc9c04edf18ccc0d51",
            "54d8598eff1748169fe939fce657adba",
            "f852cba3c09f47cea341f06671968e55",
            "e2e3d9d987ca4ac19446b16d91c34779",
            "074c3a0d026c436ba27067280fc6d1ac",
            "2041bdcce1ce48c0aba9f544daa87278",
            "15312157f0f14c7ba9f113f07df97c46",
            "0df6831cd3b3458284bc8a48a5505e43",
            "3bbbd15346df45d7be5d5d995b9b8160",
            "b18691c4914a41209a6b3ee5825e8d9d",
            "316f53f0431443088a57ef54b249b50c",
            "d060b7a588f54b1993e7748b61435a97",
            "4b4a2f84454d4186aff70df1435e1e80",
            "7d932958349f48948c6f84ab2571773e",
            "0115d890b5be4ee1adcbf0c92d604eb6"
          ]
        },
        "id": "FXSv4BcAgCDI",
        "outputId": "baa95a2e-ea88-42ab-ae51-0e03aa07f463"
      },
      "execution_count": 3,
      "outputs": [
        {
          "output_type": "stream",
          "name": "stdout",
          "text": [
            "Downloading http://yann.lecun.com/exdb/mnist/train-images-idx3-ubyte.gz\n",
            "Downloading http://yann.lecun.com/exdb/mnist/train-images-idx3-ubyte.gz to ./files/MNIST/raw/train-images-idx3-ubyte.gz\n"
          ]
        },
        {
          "output_type": "display_data",
          "data": {
            "text/plain": [
              "  0%|          | 0/9912422 [00:00<?, ?it/s]"
            ],
            "application/vnd.jupyter.widget-view+json": {
              "version_major": 2,
              "version_minor": 0,
              "model_id": "032710d632384144970491f0afd31563"
            }
          },
          "metadata": {}
        },
        {
          "output_type": "stream",
          "name": "stdout",
          "text": [
            "Extracting ./files/MNIST/raw/train-images-idx3-ubyte.gz to ./files/MNIST/raw\n",
            "\n",
            "Downloading http://yann.lecun.com/exdb/mnist/train-labels-idx1-ubyte.gz\n",
            "Downloading http://yann.lecun.com/exdb/mnist/train-labels-idx1-ubyte.gz to ./files/MNIST/raw/train-labels-idx1-ubyte.gz\n"
          ]
        },
        {
          "output_type": "display_data",
          "data": {
            "text/plain": [
              "  0%|          | 0/28881 [00:00<?, ?it/s]"
            ],
            "application/vnd.jupyter.widget-view+json": {
              "version_major": 2,
              "version_minor": 0,
              "model_id": "69cd0874bba84bc9ac4ac782df47063e"
            }
          },
          "metadata": {}
        },
        {
          "output_type": "stream",
          "name": "stdout",
          "text": [
            "Extracting ./files/MNIST/raw/train-labels-idx1-ubyte.gz to ./files/MNIST/raw\n",
            "\n",
            "Downloading http://yann.lecun.com/exdb/mnist/t10k-images-idx3-ubyte.gz\n",
            "Downloading http://yann.lecun.com/exdb/mnist/t10k-images-idx3-ubyte.gz to ./files/MNIST/raw/t10k-images-idx3-ubyte.gz\n"
          ]
        },
        {
          "output_type": "display_data",
          "data": {
            "text/plain": [
              "  0%|          | 0/1648877 [00:00<?, ?it/s]"
            ],
            "application/vnd.jupyter.widget-view+json": {
              "version_major": 2,
              "version_minor": 0,
              "model_id": "dd0a3b65c9fb4ecd8d5b7f6b0b654f37"
            }
          },
          "metadata": {}
        },
        {
          "output_type": "stream",
          "name": "stdout",
          "text": [
            "Extracting ./files/MNIST/raw/t10k-images-idx3-ubyte.gz to ./files/MNIST/raw\n",
            "\n",
            "Downloading http://yann.lecun.com/exdb/mnist/t10k-labels-idx1-ubyte.gz\n",
            "Downloading http://yann.lecun.com/exdb/mnist/t10k-labels-idx1-ubyte.gz to ./files/MNIST/raw/t10k-labels-idx1-ubyte.gz\n"
          ]
        },
        {
          "output_type": "display_data",
          "data": {
            "text/plain": [
              "  0%|          | 0/4542 [00:00<?, ?it/s]"
            ],
            "application/vnd.jupyter.widget-view+json": {
              "version_major": 2,
              "version_minor": 0,
              "model_id": "074c3a0d026c436ba27067280fc6d1ac"
            }
          },
          "metadata": {}
        },
        {
          "output_type": "stream",
          "name": "stdout",
          "text": [
            "Extracting ./files/MNIST/raw/t10k-labels-idx1-ubyte.gz to ./files/MNIST/raw\n",
            "\n"
          ]
        }
      ]
    },
    {
      "cell_type": "code",
      "source": [
        "examples = list(train_loader)\n",
        "example_data, example_targets = examples[0]\n",
        "print(example_data.shape)\n",
        "print(example_targets.shape)"
      ],
      "metadata": {
        "colab": {
          "base_uri": "https://localhost:8080/"
        },
        "id": "xnUKE4g4ll_O",
        "outputId": "706e0830-7789-41e3-cc71-93d1796bf9d9"
      },
      "execution_count": 4,
      "outputs": [
        {
          "output_type": "stream",
          "name": "stdout",
          "text": [
            "torch.Size([64, 1, 28, 28])\n",
            "torch.Size([64])\n"
          ]
        }
      ]
    },
    {
      "cell_type": "code",
      "source": [
        "fig = plt.figure(figsize=(20, 10))\n",
        "for i in range(40):\n",
        "  plt.subplot(5,8,i+1)\n",
        "  plt.tight_layout()\n",
        "  plt.imshow(example_data[i][0], cmap='gray', interpolation='none')\n",
        "  plt.title(\"Ground Truth: {}\".format(example_targets[i]))\n",
        "  plt.xticks([])\n",
        "  plt.yticks([])"
      ],
      "metadata": {
        "colab": {
          "base_uri": "https://localhost:8080/",
          "height": 712
        },
        "id": "EYa6tzFogJuC",
        "outputId": "c6caa7f6-38d9-483b-b2d2-32fc21a2cc33"
      },
      "execution_count": 5,
      "outputs": [
        {
          "output_type": "display_data",
          "data": {
            "text/plain": [
              "<Figure size 1440x720 with 40 Axes>"
            ],
            "image/png": "[encoded data removed]"
          },
          "metadata": {}
        }
      ]
    },
    {
      "cell_type": "markdown",
      "source": [
        "We define the network"
      ],
      "metadata": {
        "id": "Xdxe_mCl015P"
      }
    },
    {
      "cell_type": "code",
      "source": [
        "class Net(nn.Module):\n",
        "  def __init__(self):\n",
        "    super(Net, self).__init__()\n",
        "    self.conv1 = nn.Conv2d(1, 10, kernel_size=5)\n",
        "    self.conv2 = nn.Conv2d(10, 20, kernel_size=5, padding=(2,2))\n",
        "    self.conv2_drop = nn.Dropout2d()\n",
        "    self.fc1 = nn.Linear(720, 50)\n",
        "    self.fc2 = nn.Linear(50, 10)\n",
        "\n",
        "  def forward(self, x):\n",
        "    x = F.relu(F.max_pool2d(self.conv1(x), 2))\n",
        "    x = F.relu(F.max_pool2d(self.conv2_drop(self.conv2(x)), 2))\n",
        "    x = x.view(-1, 720)\n",
        "    x = F.relu(self.fc1(x))\n",
        "    x = F.dropout(x, training=self.training)\n",
        "    x = self.fc2(x)\n",
        "    return F.log_softmax(x)"
      ],
      "metadata": {
        "id": "3_VsAN5lgyLj"
      },
      "execution_count": 6,
      "outputs": []
    },
    {
      "cell_type": "code",
      "source": [
        "learning_rate = 0.01\n",
        "\n",
        "network = Net().to(DEVICE)  # We move the network to the GPU\n",
        "optimizer = optim.Adam(network.parameters(), lr=learning_rate)"
      ],
      "metadata": {
        "id": "wyo-zwGMg0vy"
      },
      "execution_count": 7,
      "outputs": []
    },
    {
      "cell_type": "code",
      "source": [
        "n_epochs = 3  # 3 epochs\n",
        "\n",
        "train_losses = []\n",
        "train_counter = []\n",
        "test_losses = []\n",
        "test_counter = [i*len(train_loader.dataset) for i in range(n_epochs + 1)]"
      ],
      "metadata": {
        "id": "HE1khcLCg37T"
      },
      "execution_count": 8,
      "outputs": []
    },
    {
      "cell_type": "markdown",
      "source": [
        "This is the main training loop."
      ],
      "metadata": {
        "id": "sIpVWMI9hBK3"
      }
    },
    {
      "cell_type": "code",
      "source": [
        "for data, target in test_loader:\n",
        "    data = data.to(DEVICE)\n",
        "    target = target.to(DEVICE)\n",
        "    output = network(data)"
      ],
      "metadata": {
        "colab": {
          "base_uri": "https://localhost:8080/"
        },
        "id": "HzwqSGDsg8Z_",
        "outputId": "0b298ce1-7816-4c17-a817-363788f5cb4f"
      },
      "execution_count": 9,
      "outputs": [
        {
          "output_type": "stream",
          "name": "stderr",
          "text": [
            "<ipython-input-6-586a4b3495a5>:17: UserWarning: Implicit dimension choice for log_softmax has been deprecated. Change the call to include dim=X as an argument.\n",
            "  return F.log_softmax(x)\n"
          ]
        }
      ]
    },
    {
      "cell_type": "code",
      "source": [
        "log_interval = 10\n",
        "\n",
        "def train(epoch):\n",
        "  network.train()\n",
        "  for batch_idx, (data, target) in enumerate(train_loader):\n",
        "    optimizer.zero_grad()\n",
        "    data = data.to(DEVICE)\n",
        "    target = target.to(DEVICE)\n",
        "    output = network(data)\n",
        "    loss = F.cross_entropy(output, target)\n",
        "    loss.backward()\n",
        "    optimizer.step()\n",
        "    if batch_idx % log_interval == 0:\n",
        "      print('Train Epoch: {} [{}/{} ({:.0f}%)]\\tLoss: {:.6f}'.format(\n",
        "            epoch, batch_idx * len(data), len(train_loader.dataset),\n",
        "            100. * batch_idx / len(train_loader), loss.item()))\n",
        "      train_losses.append(loss.item())\n",
        "      train_counter.append(\n",
        "        (batch_idx*64) + ((epoch-1)*len(train_loader.dataset)))"
      ],
      "metadata": {
        "id": "XJyk1Pc9hFhy"
      },
      "execution_count": 10,
      "outputs": []
    },
    {
      "cell_type": "markdown",
      "source": [
        "This is the main testing loop."
      ],
      "metadata": {
        "id": "RSS3FYv0hITh"
      }
    },
    {
      "cell_type": "code",
      "source": [
        "def test():\n",
        "  network.eval()\n",
        "  test_loss = 0\n",
        "  correct = 0\n",
        "  with torch.no_grad():\n",
        "    for data, target in test_loader:\n",
        "      data = data.to(DEVICE)\n",
        "      target = target.to(DEVICE)\n",
        "      output = network(data)\n",
        "      test_loss += F.cross_entropy(output, target, size_average=False).item()\n",
        "      pred = output.data.max(1, keepdim=True)[1]\n",
        "      correct += pred.eq(target.data.view_as(pred)).sum()\n",
        "  test_loss /= len(test_loader.dataset)\n",
        "  test_losses.append(test_loss)\n",
        "  print('\\nTest set: Avg. loss: {:.4f}, Accuracy: {}/{} ({:.0f}%)\\n'.format(\n",
        "        test_loss, correct, len(test_loader.dataset),\n",
        "        100. * correct / len(test_loader.dataset)))"
      ],
      "metadata": {
        "id": "JEb29i90hIGa"
      },
      "execution_count": 11,
      "outputs": []
    },
    {
      "cell_type": "markdown",
      "source": [
        "We define 2 variables `test_loss` and `correct` equal to 0 which work as counters. We pass our data to the function and to the model to have the predictions. From the targets and predictions we compute the cross entropy loss.\\\n",
        "Then we check if the predictions are equal to the target values and we add the to the `correct` counter We normalize the counters to 100 and print them.   "
      ],
      "metadata": {
        "id": "BUCgwBn80nEH"
      }
    },
    {
      "cell_type": "markdown",
      "source": [
        "Training"
      ],
      "metadata": {
        "id": "X1U1tY6shUYO"
      }
    },
    {
      "cell_type": "code",
      "source": [
        "test()\n",
        "for epoch in range(1, n_epochs + 1):\n",
        "    train(epoch)\n",
        "    test()"
      ],
      "metadata": {
        "colab": {
          "base_uri": "https://localhost:8080/"
        },
        "id": "1o9lTapZhSbV",
        "outputId": "90ca3a06-c5de-44b4-8b14-73244869e4b7"
      },
      "execution_count": 12,
      "outputs": [
        {
          "output_type": "stream",
          "name": "stderr",
          "text": [
            "<ipython-input-6-586a4b3495a5>:17: UserWarning: Implicit dimension choice for log_softmax has been deprecated. Change the call to include dim=X as an argument.\n",
            "  return F.log_softmax(x)\n",
            "/usr/local/lib/python3.9/dist-packages/torch/nn/_reduction.py:42: UserWarning: size_average and reduce args will be deprecated, please use reduction='sum' instead.\n",
            "  warnings.warn(warning.format(ret))\n"
          ]
        },
        {
          "output_type": "stream",
          "name": "stdout",
          "text": [
            "\n",
            "Test set: Avg. loss: 2.3102, Accuracy: 726/10000 (7%)\n",
            "\n",
            "Train Epoch: 1 [0/60000 (0%)]\tLoss: 2.288541\n",
            "Train Epoch: 1 [640/60000 (1%)]\tLoss: 1.931532\n",
            "Train Epoch: 1 [1280/60000 (2%)]\tLoss: 1.289669\n",
            "Train Epoch: 1 [1920/60000 (3%)]\tLoss: 1.075958\n",
            "Train Epoch: 1 [2560/60000 (4%)]\tLoss: 0.976703\n",
            "Train Epoch: 1 [3200/60000 (5%)]\tLoss: 0.869506\n",
            "Train Epoch: 1 [3840/60000 (6%)]\tLoss: 0.915855\n",
            "Train Epoch: 1 [4480/60000 (7%)]\tLoss: 1.029423\n",
            "Train Epoch: 1 [5120/60000 (9%)]\tLoss: 0.996573\n",
            "Train Epoch: 1 [5760/60000 (10%)]\tLoss: 0.960476\n",
            "Train Epoch: 1 [6400/60000 (11%)]\tLoss: 0.780305\n",
            "Train Epoch: 1 [7040/60000 (12%)]\tLoss: 0.767916\n",
            "Train Epoch: 1 [7680/60000 (13%)]\tLoss: 0.511639\n",
            "Train Epoch: 1 [8320/60000 (14%)]\tLoss: 0.567594\n",
            "Train Epoch: 1 [8960/60000 (15%)]\tLoss: 0.354755\n",
            "Train Epoch: 1 [9600/60000 (16%)]\tLoss: 0.842076\n",
            "Train Epoch: 1 [10240/60000 (17%)]\tLoss: 0.576877\n",
            "Train Epoch: 1 [10880/60000 (18%)]\tLoss: 0.615564\n",
            "Train Epoch: 1 [11520/60000 (19%)]\tLoss: 0.620115\n",
            "Train Epoch: 1 [12160/60000 (20%)]\tLoss: 0.558053\n",
            "Train Epoch: 1 [12800/60000 (21%)]\tLoss: 0.427616\n",
            "Train Epoch: 1 [13440/60000 (22%)]\tLoss: 0.413195\n",
            "Train Epoch: 1 [14080/60000 (23%)]\tLoss: 0.350945\n",
            "Train Epoch: 1 [14720/60000 (25%)]\tLoss: 0.743615\n",
            "Train Epoch: 1 [15360/60000 (26%)]\tLoss: 0.371767\n",
            "Train Epoch: 1 [16000/60000 (27%)]\tLoss: 0.280088\n",
            "Train Epoch: 1 [16640/60000 (28%)]\tLoss: 0.422343\n",
            "Train Epoch: 1 [17280/60000 (29%)]\tLoss: 0.464350\n",
            "Train Epoch: 1 [17920/60000 (30%)]\tLoss: 0.211165\n",
            "Train Epoch: 1 [18560/60000 (31%)]\tLoss: 0.421279\n",
            "Train Epoch: 1 [19200/60000 (32%)]\tLoss: 0.520680\n",
            "Train Epoch: 1 [19840/60000 (33%)]\tLoss: 0.455536\n",
            "Train Epoch: 1 [20480/60000 (34%)]\tLoss: 0.329313\n",
            "Train Epoch: 1 [21120/60000 (35%)]\tLoss: 0.533903\n",
            "Train Epoch: 1 [21760/60000 (36%)]\tLoss: 0.317541\n",
            "Train Epoch: 1 [22400/60000 (37%)]\tLoss: 0.730464\n",
            "Train Epoch: 1 [23040/60000 (38%)]\tLoss: 0.315329\n",
            "Train Epoch: 1 [23680/60000 (39%)]\tLoss: 0.386549\n",
            "Train Epoch: 1 [24320/60000 (41%)]\tLoss: 0.539727\n",
            "Train Epoch: 1 [24960/60000 (42%)]\tLoss: 0.539742\n",
            "Train Epoch: 1 [25600/60000 (43%)]\tLoss: 0.524020\n",
            "Train Epoch: 1 [26240/60000 (44%)]\tLoss: 0.798033\n",
            "Train Epoch: 1 [26880/60000 (45%)]\tLoss: 0.517611\n",
            "Train Epoch: 1 [27520/60000 (46%)]\tLoss: 0.278127\n",
            "Train Epoch: 1 [28160/60000 (47%)]\tLoss: 0.507619\n",
            "Train Epoch: 1 [28800/60000 (48%)]\tLoss: 0.539995\n",
            "Train Epoch: 1 [29440/60000 (49%)]\tLoss: 0.356850\n",
            "Train Epoch: 1 [30080/60000 (50%)]\tLoss: 0.368450\n",
            "Train Epoch: 1 [30720/60000 (51%)]\tLoss: 0.395251\n",
            "Train Epoch: 1 [31360/60000 (52%)]\tLoss: 0.583818\n",
            "Train Epoch: 1 [32000/60000 (53%)]\tLoss: 0.589329\n",
            "Train Epoch: 1 [32640/60000 (54%)]\tLoss: 0.480336\n",
            "Train Epoch: 1 [33280/60000 (55%)]\tLoss: 0.291191\n",
            "Train Epoch: 1 [33920/60000 (57%)]\tLoss: 0.255443\n",
            "Train Epoch: 1 [34560/60000 (58%)]\tLoss: 0.345097\n",
            "Train Epoch: 1 [35200/60000 (59%)]\tLoss: 0.470109\n",
            "Train Epoch: 1 [35840/60000 (60%)]\tLoss: 0.205565\n",
            "Train Epoch: 1 [36480/60000 (61%)]\tLoss: 0.752283\n",
            "Train Epoch: 1 [37120/60000 (62%)]\tLoss: 0.466132\n",
            "Train Epoch: 1 [37760/60000 (63%)]\tLoss: 0.555612\n",
            "Train Epoch: 1 [38400/60000 (64%)]\tLoss: 0.545808\n",
            "Train Epoch: 1 [39040/60000 (65%)]\tLoss: 0.658357\n",
            "Train Epoch: 1 [39680/60000 (66%)]\tLoss: 0.556402\n",
            "Train Epoch: 1 [40320/60000 (67%)]\tLoss: 0.425643\n",
            "Train Epoch: 1 [40960/60000 (68%)]\tLoss: 0.475035\n",
            "Train Epoch: 1 [41600/60000 (69%)]\tLoss: 0.566849\n",
            "Train Epoch: 1 [42240/60000 (70%)]\tLoss: 0.265960\n",
            "Train Epoch: 1 [42880/60000 (71%)]\tLoss: 0.474840\n",
            "Train Epoch: 1 [43520/60000 (72%)]\tLoss: 0.455577\n",
            "Train Epoch: 1 [44160/60000 (74%)]\tLoss: 0.507125\n",
            "Train Epoch: 1 [44800/60000 (75%)]\tLoss: 0.516039\n",
            "Train Epoch: 1 [45440/60000 (76%)]\tLoss: 0.399546\n",
            "Train Epoch: 1 [46080/60000 (77%)]\tLoss: 0.341754\n",
            "Train Epoch: 1 [46720/60000 (78%)]\tLoss: 0.489240\n",
            "Train Epoch: 1 [47360/60000 (79%)]\tLoss: 0.356337\n",
            "Train Epoch: 1 [48000/60000 (80%)]\tLoss: 0.283304\n",
            "Train Epoch: 1 [48640/60000 (81%)]\tLoss: 0.345762\n",
            "Train Epoch: 1 [49280/60000 (82%)]\tLoss: 0.443114\n",
            "Train Epoch: 1 [49920/60000 (83%)]\tLoss: 0.345601\n",
            "Train Epoch: 1 [50560/60000 (84%)]\tLoss: 0.418686\n",
            "Train Epoch: 1 [51200/60000 (85%)]\tLoss: 0.377771\n",
            "Train Epoch: 1 [51840/60000 (86%)]\tLoss: 0.157287\n",
            "Train Epoch: 1 [52480/60000 (87%)]\tLoss: 0.389074\n",
            "Train Epoch: 1 [53120/60000 (88%)]\tLoss: 0.442507\n",
            "Train Epoch: 1 [53760/60000 (90%)]\tLoss: 0.410089\n",
            "Train Epoch: 1 [54400/60000 (91%)]\tLoss: 0.281402\n",
            "Train Epoch: 1 [55040/60000 (92%)]\tLoss: 0.498957\n",
            "Train Epoch: 1 [55680/60000 (93%)]\tLoss: 0.263857\n",
            "Train Epoch: 1 [56320/60000 (94%)]\tLoss: 0.315480\n",
            "Train Epoch: 1 [56960/60000 (95%)]\tLoss: 0.449820\n",
            "Train Epoch: 1 [57600/60000 (96%)]\tLoss: 0.555892\n",
            "Train Epoch: 1 [58240/60000 (97%)]\tLoss: 0.501576\n",
            "Train Epoch: 1 [58880/60000 (98%)]\tLoss: 0.487633\n",
            "Train Epoch: 1 [59520/60000 (99%)]\tLoss: 0.675527\n",
            "\n",
            "Test set: Avg. loss: 0.1174, Accuracy: 9636/10000 (96%)\n",
            "\n",
            "Train Epoch: 2 [0/60000 (0%)]\tLoss: 0.271400\n",
            "Train Epoch: 2 [640/60000 (1%)]\tLoss: 0.337910\n",
            "Train Epoch: 2 [1280/60000 (2%)]\tLoss: 0.308897\n",
            "Train Epoch: 2 [1920/60000 (3%)]\tLoss: 0.512023\n",
            "Train Epoch: 2 [2560/60000 (4%)]\tLoss: 0.400834\n",
            "Train Epoch: 2 [3200/60000 (5%)]\tLoss: 0.502787\n",
            "Train Epoch: 2 [3840/60000 (6%)]\tLoss: 0.381272\n",
            "Train Epoch: 2 [4480/60000 (7%)]\tLoss: 0.315927\n",
            "Train Epoch: 2 [5120/60000 (9%)]\tLoss: 0.302513\n",
            "Train Epoch: 2 [5760/60000 (10%)]\tLoss: 0.253429\n",
            "Train Epoch: 2 [6400/60000 (11%)]\tLoss: 0.431834\n",
            "Train Epoch: 2 [7040/60000 (12%)]\tLoss: 0.609600\n",
            "Train Epoch: 2 [7680/60000 (13%)]\tLoss: 0.415050\n",
            "Train Epoch: 2 [8320/60000 (14%)]\tLoss: 0.576363\n",
            "Train Epoch: 2 [8960/60000 (15%)]\tLoss: 0.307190\n",
            "Train Epoch: 2 [9600/60000 (16%)]\tLoss: 0.319500\n",
            "Train Epoch: 2 [10240/60000 (17%)]\tLoss: 0.299262\n",
            "Train Epoch: 2 [10880/60000 (18%)]\tLoss: 0.422389\n",
            "Train Epoch: 2 [11520/60000 (19%)]\tLoss: 0.341857\n",
            "Train Epoch: 2 [12160/60000 (20%)]\tLoss: 0.453201\n",
            "Train Epoch: 2 [12800/60000 (21%)]\tLoss: 0.401360\n",
            "Train Epoch: 2 [13440/60000 (22%)]\tLoss: 0.396863\n",
            "Train Epoch: 2 [14080/60000 (23%)]\tLoss: 0.139626\n",
            "Train Epoch: 2 [14720/60000 (25%)]\tLoss: 0.462325\n",
            "Train Epoch: 2 [15360/60000 (26%)]\tLoss: 0.306171\n",
            "Train Epoch: 2 [16000/60000 (27%)]\tLoss: 0.352971\n",
            "Train Epoch: 2 [16640/60000 (28%)]\tLoss: 0.175090\n",
            "Train Epoch: 2 [17280/60000 (29%)]\tLoss: 0.482850\n",
            "Train Epoch: 2 [17920/60000 (30%)]\tLoss: 0.218105\n",
            "Train Epoch: 2 [18560/60000 (31%)]\tLoss: 0.459766\n",
            "Train Epoch: 2 [19200/60000 (32%)]\tLoss: 0.419914\n",
            "Train Epoch: 2 [19840/60000 (33%)]\tLoss: 0.399320\n",
            "Train Epoch: 2 [20480/60000 (34%)]\tLoss: 0.650148\n",
            "Train Epoch: 2 [21120/60000 (35%)]\tLoss: 0.200824\n",
            "Train Epoch: 2 [21760/60000 (36%)]\tLoss: 0.473994\n",
            "Train Epoch: 2 [22400/60000 (37%)]\tLoss: 0.196735\n",
            "Train Epoch: 2 [23040/60000 (38%)]\tLoss: 0.202102\n",
            "Train Epoch: 2 [23680/60000 (39%)]\tLoss: 0.200197\n",
            "Train Epoch: 2 [24320/60000 (41%)]\tLoss: 0.306193\n",
            "Train Epoch: 2 [24960/60000 (42%)]\tLoss: 0.305504\n",
            "Train Epoch: 2 [25600/60000 (43%)]\tLoss: 0.284195\n",
            "Train Epoch: 2 [26240/60000 (44%)]\tLoss: 0.394596\n",
            "Train Epoch: 2 [26880/60000 (45%)]\tLoss: 0.212236\n",
            "Train Epoch: 2 [27520/60000 (46%)]\tLoss: 0.097092\n",
            "Train Epoch: 2 [28160/60000 (47%)]\tLoss: 0.567959\n",
            "Train Epoch: 2 [28800/60000 (48%)]\tLoss: 0.649805\n",
            "Train Epoch: 2 [29440/60000 (49%)]\tLoss: 0.305870\n",
            "Train Epoch: 2 [30080/60000 (50%)]\tLoss: 0.471960\n",
            "Train Epoch: 2 [30720/60000 (51%)]\tLoss: 0.623200\n",
            "Train Epoch: 2 [31360/60000 (52%)]\tLoss: 0.436800\n",
            "Train Epoch: 2 [32000/60000 (53%)]\tLoss: 0.350305\n",
            "Train Epoch: 2 [32640/60000 (54%)]\tLoss: 0.334821\n",
            "Train Epoch: 2 [33280/60000 (55%)]\tLoss: 0.312692\n",
            "Train Epoch: 2 [33920/60000 (57%)]\tLoss: 0.270762\n",
            "Train Epoch: 2 [34560/60000 (58%)]\tLoss: 0.262427\n",
            "Train Epoch: 2 [35200/60000 (59%)]\tLoss: 0.321739\n",
            "Train Epoch: 2 [35840/60000 (60%)]\tLoss: 0.415841\n",
            "Train Epoch: 2 [36480/60000 (61%)]\tLoss: 0.738084\n",
            "Train Epoch: 2 [37120/60000 (62%)]\tLoss: 0.411611\n",
            "Train Epoch: 2 [37760/60000 (63%)]\tLoss: 0.173626\n",
            "Train Epoch: 2 [38400/60000 (64%)]\tLoss: 0.239177\n",
            "Train Epoch: 2 [39040/60000 (65%)]\tLoss: 0.389379\n",
            "Train Epoch: 2 [39680/60000 (66%)]\tLoss: 0.411605\n",
            "Train Epoch: 2 [40320/60000 (67%)]\tLoss: 0.129844\n",
            "Train Epoch: 2 [40960/60000 (68%)]\tLoss: 0.247621\n",
            "Train Epoch: 2 [41600/60000 (69%)]\tLoss: 0.503541\n",
            "Train Epoch: 2 [42240/60000 (70%)]\tLoss: 0.679994\n",
            "Train Epoch: 2 [42880/60000 (71%)]\tLoss: 0.526753\n",
            "Train Epoch: 2 [43520/60000 (72%)]\tLoss: 0.577998\n",
            "Train Epoch: 2 [44160/60000 (74%)]\tLoss: 0.374313\n",
            "Train Epoch: 2 [44800/60000 (75%)]\tLoss: 0.463557\n",
            "Train Epoch: 2 [45440/60000 (76%)]\tLoss: 0.679295\n",
            "Train Epoch: 2 [46080/60000 (77%)]\tLoss: 0.244366\n",
            "Train Epoch: 2 [46720/60000 (78%)]\tLoss: 0.360576\n",
            "Train Epoch: 2 [47360/60000 (79%)]\tLoss: 0.309695\n",
            "Train Epoch: 2 [48000/60000 (80%)]\tLoss: 0.359183\n",
            "Train Epoch: 2 [48640/60000 (81%)]\tLoss: 0.356812\n",
            "Train Epoch: 2 [49280/60000 (82%)]\tLoss: 0.092633\n",
            "Train Epoch: 2 [49920/60000 (83%)]\tLoss: 0.185272\n",
            "Train Epoch: 2 [50560/60000 (84%)]\tLoss: 0.420366\n",
            "Train Epoch: 2 [51200/60000 (85%)]\tLoss: 0.653091\n",
            "Train Epoch: 2 [51840/60000 (86%)]\tLoss: 0.227235\n",
            "Train Epoch: 2 [52480/60000 (87%)]\tLoss: 0.329176\n",
            "Train Epoch: 2 [53120/60000 (88%)]\tLoss: 0.300358\n",
            "Train Epoch: 2 [53760/60000 (90%)]\tLoss: 0.292117\n",
            "Train Epoch: 2 [54400/60000 (91%)]\tLoss: 0.639849\n",
            "Train Epoch: 2 [55040/60000 (92%)]\tLoss: 0.388797\n",
            "Train Epoch: 2 [55680/60000 (93%)]\tLoss: 0.303371\n",
            "Train Epoch: 2 [56320/60000 (94%)]\tLoss: 0.349579\n",
            "Train Epoch: 2 [56960/60000 (95%)]\tLoss: 0.535722\n",
            "Train Epoch: 2 [57600/60000 (96%)]\tLoss: 0.663177\n",
            "Train Epoch: 2 [58240/60000 (97%)]\tLoss: 0.770279\n",
            "Train Epoch: 2 [58880/60000 (98%)]\tLoss: 0.416080\n",
            "Train Epoch: 2 [59520/60000 (99%)]\tLoss: 0.407512\n",
            "\n",
            "Test set: Avg. loss: 0.1023, Accuracy: 9695/10000 (97%)\n",
            "\n",
            "Train Epoch: 3 [0/60000 (0%)]\tLoss: 0.351365\n",
            "Train Epoch: 3 [640/60000 (1%)]\tLoss: 0.406074\n",
            "Train Epoch: 3 [1280/60000 (2%)]\tLoss: 0.647867\n",
            "Train Epoch: 3 [1920/60000 (3%)]\tLoss: 0.491041\n",
            "Train Epoch: 3 [2560/60000 (4%)]\tLoss: 0.816177\n",
            "Train Epoch: 3 [3200/60000 (5%)]\tLoss: 0.410612\n",
            "Train Epoch: 3 [3840/60000 (6%)]\tLoss: 0.453784\n",
            "Train Epoch: 3 [4480/60000 (7%)]\tLoss: 0.294785\n",
            "Train Epoch: 3 [5120/60000 (9%)]\tLoss: 0.295391\n",
            "Train Epoch: 3 [5760/60000 (10%)]\tLoss: 0.201743\n",
            "Train Epoch: 3 [6400/60000 (11%)]\tLoss: 0.443372\n",
            "Train Epoch: 3 [7040/60000 (12%)]\tLoss: 0.342101\n",
            "Train Epoch: 3 [7680/60000 (13%)]\tLoss: 0.139982\n",
            "Train Epoch: 3 [8320/60000 (14%)]\tLoss: 0.307591\n",
            "Train Epoch: 3 [8960/60000 (15%)]\tLoss: 0.414512\n",
            "Train Epoch: 3 [9600/60000 (16%)]\tLoss: 0.445241\n",
            "Train Epoch: 3 [10240/60000 (17%)]\tLoss: 0.371775\n",
            "Train Epoch: 3 [10880/60000 (18%)]\tLoss: 0.751864\n",
            "Train Epoch: 3 [11520/60000 (19%)]\tLoss: 0.184037\n",
            "Train Epoch: 3 [12160/60000 (20%)]\tLoss: 0.376371\n",
            "Train Epoch: 3 [12800/60000 (21%)]\tLoss: 0.248837\n",
            "Train Epoch: 3 [13440/60000 (22%)]\tLoss: 0.380228\n",
            "Train Epoch: 3 [14080/60000 (23%)]\tLoss: 0.202968\n",
            "Train Epoch: 3 [14720/60000 (25%)]\tLoss: 0.333027\n",
            "Train Epoch: 3 [15360/60000 (26%)]\tLoss: 0.267650\n",
            "Train Epoch: 3 [16000/60000 (27%)]\tLoss: 0.323585\n",
            "Train Epoch: 3 [16640/60000 (28%)]\tLoss: 0.451741\n",
            "Train Epoch: 3 [17280/60000 (29%)]\tLoss: 0.279260\n",
            "Train Epoch: 3 [17920/60000 (30%)]\tLoss: 0.181338\n",
            "Train Epoch: 3 [18560/60000 (31%)]\tLoss: 0.273842\n",
            "Train Epoch: 3 [19200/60000 (32%)]\tLoss: 0.381926\n",
            "Train Epoch: 3 [19840/60000 (33%)]\tLoss: 0.343070\n",
            "Train Epoch: 3 [20480/60000 (34%)]\tLoss: 0.204746\n",
            "Train Epoch: 3 [21120/60000 (35%)]\tLoss: 0.178513\n",
            "Train Epoch: 3 [21760/60000 (36%)]\tLoss: 0.278920\n",
            "Train Epoch: 3 [22400/60000 (37%)]\tLoss: 0.415253\n",
            "Train Epoch: 3 [23040/60000 (38%)]\tLoss: 0.331900\n",
            "Train Epoch: 3 [23680/60000 (39%)]\tLoss: 0.332488\n",
            "Train Epoch: 3 [24320/60000 (41%)]\tLoss: 0.541292\n",
            "Train Epoch: 3 [24960/60000 (42%)]\tLoss: 0.354278\n",
            "Train Epoch: 3 [25600/60000 (43%)]\tLoss: 0.248656\n",
            "Train Epoch: 3 [26240/60000 (44%)]\tLoss: 0.454379\n",
            "Train Epoch: 3 [26880/60000 (45%)]\tLoss: 0.372995\n",
            "Train Epoch: 3 [27520/60000 (46%)]\tLoss: 0.213010\n",
            "Train Epoch: 3 [28160/60000 (47%)]\tLoss: 0.268505\n",
            "Train Epoch: 3 [28800/60000 (48%)]\tLoss: 0.604067\n",
            "Train Epoch: 3 [29440/60000 (49%)]\tLoss: 0.524865\n",
            "Train Epoch: 3 [30080/60000 (50%)]\tLoss: 0.311839\n",
            "Train Epoch: 3 [30720/60000 (51%)]\tLoss: 0.318402\n",
            "Train Epoch: 3 [31360/60000 (52%)]\tLoss: 0.498143\n",
            "Train Epoch: 3 [32000/60000 (53%)]\tLoss: 0.281933\n",
            "Train Epoch: 3 [32640/60000 (54%)]\tLoss: 0.320730\n",
            "Train Epoch: 3 [33280/60000 (55%)]\tLoss: 0.283628\n",
            "Train Epoch: 3 [33920/60000 (57%)]\tLoss: 0.314038\n",
            "Train Epoch: 3 [34560/60000 (58%)]\tLoss: 0.233118\n",
            "Train Epoch: 3 [35200/60000 (59%)]\tLoss: 0.302469\n",
            "Train Epoch: 3 [35840/60000 (60%)]\tLoss: 0.336410\n",
            "Train Epoch: 3 [36480/60000 (61%)]\tLoss: 0.168618\n",
            "Train Epoch: 3 [37120/60000 (62%)]\tLoss: 0.225083\n",
            "Train Epoch: 3 [37760/60000 (63%)]\tLoss: 0.432066\n",
            "Train Epoch: 3 [38400/60000 (64%)]\tLoss: 0.236686\n",
            "Train Epoch: 3 [39040/60000 (65%)]\tLoss: 0.180446\n",
            "Train Epoch: 3 [39680/60000 (66%)]\tLoss: 0.382879\n",
            "Train Epoch: 3 [40320/60000 (67%)]\tLoss: 0.465056\n",
            "Train Epoch: 3 [40960/60000 (68%)]\tLoss: 0.368404\n",
            "Train Epoch: 3 [41600/60000 (69%)]\tLoss: 0.160929\n",
            "Train Epoch: 3 [42240/60000 (70%)]\tLoss: 0.311493\n",
            "Train Epoch: 3 [42880/60000 (71%)]\tLoss: 0.281018\n",
            "Train Epoch: 3 [43520/60000 (72%)]\tLoss: 0.544176\n",
            "Train Epoch: 3 [44160/60000 (74%)]\tLoss: 0.325815\n",
            "Train Epoch: 3 [44800/60000 (75%)]\tLoss: 0.218786\n",
            "Train Epoch: 3 [45440/60000 (76%)]\tLoss: 0.342894\n",
            "Train Epoch: 3 [46080/60000 (77%)]\tLoss: 0.588364\n",
            "Train Epoch: 3 [46720/60000 (78%)]\tLoss: 0.305951\n",
            "Train Epoch: 3 [47360/60000 (79%)]\tLoss: 0.266125\n",
            "Train Epoch: 3 [48000/60000 (80%)]\tLoss: 0.394326\n",
            "Train Epoch: 3 [48640/60000 (81%)]\tLoss: 0.492147\n",
            "Train Epoch: 3 [49280/60000 (82%)]\tLoss: 0.310611\n",
            "Train Epoch: 3 [49920/60000 (83%)]\tLoss: 0.201924\n",
            "Train Epoch: 3 [50560/60000 (84%)]\tLoss: 0.515750\n",
            "Train Epoch: 3 [51200/60000 (85%)]\tLoss: 0.288044\n",
            "Train Epoch: 3 [51840/60000 (86%)]\tLoss: 0.703183\n",
            "Train Epoch: 3 [52480/60000 (87%)]\tLoss: 0.248451\n",
            "Train Epoch: 3 [53120/60000 (88%)]\tLoss: 0.518443\n",
            "Train Epoch: 3 [53760/60000 (90%)]\tLoss: 0.386519\n",
            "Train Epoch: 3 [54400/60000 (91%)]\tLoss: 0.236679\n",
            "Train Epoch: 3 [55040/60000 (92%)]\tLoss: 0.379958\n",
            "Train Epoch: 3 [55680/60000 (93%)]\tLoss: 0.579410\n",
            "Train Epoch: 3 [56320/60000 (94%)]\tLoss: 0.347395\n",
            "Train Epoch: 3 [56960/60000 (95%)]\tLoss: 0.485953\n",
            "Train Epoch: 3 [57600/60000 (96%)]\tLoss: 0.294744\n",
            "Train Epoch: 3 [58240/60000 (97%)]\tLoss: 0.403272\n",
            "Train Epoch: 3 [58880/60000 (98%)]\tLoss: 0.228012\n",
            "Train Epoch: 3 [59520/60000 (99%)]\tLoss: 0.241974\n",
            "\n",
            "Test set: Avg. loss: 0.0917, Accuracy: 9711/10000 (97%)\n",
            "\n"
          ]
        }
      ]
    },
    {
      "cell_type": "code",
      "source": [
        "fig = plt.figure()\n",
        "plt.plot(train_counter, train_losses, color='blue')\n",
        "plt.scatter(test_counter, test_losses, color='red')\n",
        "plt.legend(['Train Loss', 'Test Loss'], loc='upper right')\n",
        "plt.xlabel('number of training examples seen')\n",
        "plt.ylabel('negative log likelihood loss')"
      ],
      "metadata": {
        "colab": {
          "base_uri": "https://localhost:8080/",
          "height": 296
        },
        "id": "vWz5JwzIhaAa",
        "outputId": "5eacc3c9-5186-41a5-d246-03c6f43924e9"
      },
      "execution_count": 13,
      "outputs": [
        {
          "output_type": "execute_result",
          "data": {
            "text/plain": [
              "Text(0, 0.5, 'negative log likelihood loss')"
            ]
          },
          "metadata": {},
          "execution_count": 13
        },
        {
          "output_type": "display_data",
          "data": {
            "text/plain": [
              "<Figure size 432x288 with 1 Axes>"
            ],
            "image/png": "[encoded data removed]"
          },
          "metadata": {
            "needs_background": "light"
          }
        }
      ]
    },
    {
      "cell_type": "code",
      "source": [
        "with torch.no_grad():\n",
        "    output = network(example_data.to(DEVICE))"
      ],
      "metadata": {
        "colab": {
          "base_uri": "https://localhost:8080/"
        },
        "id": "6B7YmJnPhcHZ",
        "outputId": "eff78eb7-59ac-4a8d-d9bd-1909ee8cbbaf"
      },
      "execution_count": 14,
      "outputs": [
        {
          "output_type": "stream",
          "name": "stderr",
          "text": [
            "<ipython-input-6-586a4b3495a5>:17: UserWarning: Implicit dimension choice for log_softmax has been deprecated. Change the call to include dim=X as an argument.\n",
            "  return F.log_softmax(x)\n"
          ]
        }
      ]
    },
    {
      "cell_type": "code",
      "source": [
        "fig = plt.figure(figsize=(20, 10))\n",
        "for i in range(40):\n",
        "  plt.subplot(5,8,i+1)\n",
        "  plt.tight_layout()\n",
        "  plt.imshow(example_data[i][0], cmap='gray', interpolation='none')\n",
        "  plt.title(\"Prediction: {}\".format(\n",
        "      output.data.max(1, keepdim=True)[1][i].item()))\n",
        "  plt.xticks([])\n",
        "  plt.yticks([])"
      ],
      "metadata": {
        "colab": {
          "base_uri": "https://localhost:8080/",
          "height": 712
        },
        "id": "iaBM6fM_heRd",
        "outputId": "9395f579-fafe-4d97-b867-48c556297946"
      },
      "execution_count": 15,
      "outputs": [
        {
          "output_type": "display_data",
          "data": {
            "text/plain": [
              "<Figure size 1440x720 with 40 Axes>"
            ],
            "image/png": "[encoded data removed]"
          },
          "metadata": {}
        }
      ]
    },
    {
      "cell_type": "markdown",
      "source": [
        "Our model has an accuracy of 96-97% The initital accuracy is low because the predictions are totally random and the probability of predicting an image correct is 1 out of 10, so the expected accuracy is around 10%"
      ],
      "metadata": {
        "id": "H--Mv6tQ0SLv"
      }
    }
  ]
}